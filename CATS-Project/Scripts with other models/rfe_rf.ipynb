{
 "cells": [
  {
   "cell_type": "code",
   "execution_count": 186,
   "metadata": {
    "collapsed": true,
    "ExecuteTime": {
     "start_time": "2023-05-16T03:26:21.298737Z",
     "end_time": "2023-05-16T03:26:21.312734Z"
    }
   },
   "outputs": [],
   "source": [
    "import numpy as np\n",
    "from sklearn.model_selection import StratifiedKFold, GridSearchCV\n",
    "from sklearn.feature_selection import RFECV\n",
    "from sklearn.ensemble import RandomForestClassifier\n",
    "from sklearn.linear_model import LogisticRegression\n",
    "from sklearn.metrics import accuracy_score\n",
    "from train_set import Training_set, train_df\n",
    "import matplotlib.pyplot as plt\n",
    "from sklearn.model_selection import train_test_split\n",
    "from sklearn import metrics\n",
    "from sklearn.metrics import confusion_matrix, classification_report\n",
    "import seaborn as sns\n",
    "from sklearn.preprocessing import StandardScaler\n",
    "from numpy import mean\n",
    "from numpy import std\n"
   ]
  },
  {
   "cell_type": "markdown",
   "source": [
    "## Split the combined dataframe into features and labels, and split it in training and test set"
   ],
   "metadata": {
    "collapsed": false
   }
  },
  {
   "cell_type": "code",
   "execution_count": 98,
   "outputs": [],
   "source": [
    "X = Training_set.iloc[:, :-1]\n",
    "#Y has the last col with labels\n",
    "y = Training_set.iloc[:, -1]\n",
    "\n",
    "# split the dataset to train and test, the 2nd is for the non feature selection\n",
    "\n",
    "X_train, X_test, y_train, y_test = train_test_split(X, y, test_size=0.2, random_state=42)\n",
    "# logistic regression needs the data scaled\n",
    "scaler = StandardScaler().fit(X_train)\n",
    "scaler\n",
    "StandardScaler()\n",
    "\n",
    "X_scaled = scaler.transform(X_train)"
   ],
   "metadata": {
    "collapsed": false,
    "ExecuteTime": {
     "start_time": "2023-05-16T00:41:29.547685Z",
     "end_time": "2023-05-16T00:41:30.140760Z"
    }
   }
  },
  {
   "cell_type": "markdown",
   "source": [
    "## Feature selection with RFECV"
   ],
   "metadata": {
    "collapsed": false
   }
  },
  {
   "cell_type": "code",
   "execution_count": 99,
   "outputs": [
    {
     "name": "stdout",
     "output_type": "stream",
     "text": [
      "Optimal number of features: 11\n"
     ]
    }
   ],
   "source": [
    "# feature selection using RFECV with logistic regression estimator\n",
    "clf1 = LogisticRegression()\n",
    "cv_inner = StratifiedKFold(n_splits=5, shuffle=True, random_state=42)\n",
    "rfecv = RFECV(\n",
    "    estimator=clf1,\n",
    "    step=1,\n",
    "    cv=cv_inner,\n",
    "    scoring=\"accuracy\",\n",
    "    min_features_to_select=1,\n",
    "    n_jobs=2,\n",
    ")\n",
    "rfecv.fit(X_scaled, y_train)\n",
    "\n",
    "\n",
    "print(f\"Optimal number of features: {rfecv.n_features_}\")"
   ],
   "metadata": {
    "collapsed": false,
    "ExecuteTime": {
     "start_time": "2023-05-16T00:41:32.742131Z",
     "end_time": "2023-05-16T00:59:00.907066Z"
    }
   }
  },
  {
   "cell_type": "code",
   "execution_count": 105,
   "outputs": [],
   "source": [
    "\n",
    "# Get selected features from RFECV and make a new dataframe with only this information\n",
    "selected_features = X_train.loc[:, rfecv.support_]\n",
    "selected_features.to_csv(\"RFE_dataset.csv\")"
   ],
   "metadata": {
    "collapsed": false,
    "ExecuteTime": {
     "start_time": "2023-05-16T01:27:23.501722Z",
     "end_time": "2023-05-16T01:27:23.514724Z"
    }
   }
  },
  {
   "cell_type": "markdown",
   "source": [
    "## Nested Cross validation for parameter tuning"
   ],
   "metadata": {
    "collapsed": false
   }
  },
  {
   "cell_type": "code",
   "execution_count": 192,
   "outputs": [
    {
     "name": "stdout",
     "output_type": "stream",
     "text": [
      ">acc=0.812, est=0.954, cfg={'max_depth': 5, 'min_samples_leaf': 1, 'min_samples_split': 5, 'n_estimators': 100}\n",
      ">acc=0.875, est=0.923, cfg={'max_depth': 10, 'min_samples_leaf': 2, 'min_samples_split': 10, 'n_estimators': 100}\n",
      ">acc=0.812, est=0.858, cfg={'max_depth': 5, 'min_samples_leaf': 1, 'min_samples_split': 5, 'n_estimators': 200}\n",
      ">acc=1.000, est=0.908, cfg={'max_depth': 5, 'min_samples_leaf': 1, 'min_samples_split': 5, 'n_estimators': 100}\n",
      ">acc=0.875, est=0.873, cfg={'max_depth': 5, 'min_samples_leaf': 1, 'min_samples_split': 10, 'n_estimators': 100}\n",
      "Accuracy: 0.875 (0.068)\n"
     ]
    }
   ],
   "source": [
    "# Split the generated data into training and testing sets\n",
    "skf_outer = StratifiedKFold(n_splits=5, shuffle=True, random_state=42)\n",
    "actual_scores = []\n",
    "\n",
    "# Define the parameter grid for the random forest classifier\n",
    "param_grid = {\n",
    "    'n_estimators': [100, 200, 300],\n",
    "    'max_depth': [5, 10, 20],\n",
    "    'min_samples_split': [2, 5, 10],\n",
    "    'min_samples_leaf': [1, 2, 4]\n",
    "}\n",
    "\n",
    "for train_index_inner, test_index_inner in skf_outer.split(selected_features, y_train):\n",
    "    X_train_inner, X_test_inner = selected_features.iloc[train_index_inner], selected_features.iloc[test_index_inner]\n",
    "    y_train_inner, y_test_inner = y_train.iloc[train_index_inner], y_train.iloc[test_index_inner]\n",
    "\n",
    "    # parameter tuning for the random forest classifier using GridSearchCV\n",
    "    rf_model = RandomForestClassifier(random_state=42)\n",
    "\n",
    "    # Inner cross-validation loop for hyperparameter tuning\n",
    "    skf_inner = StratifiedKFold(n_splits=5, shuffle=True, random_state=42)\n",
    "    grid_search = GridSearchCV(RandomForestClassifier(), param_grid, scoring='accuracy', cv=skf_inner)\n",
    "\n",
    "    grid_search.fit(X_train_inner, y_train_inner)\n",
    "    best_model = grid_search.best_estimator_\n",
    "    yhat = best_model.predict(X_test_inner)\n",
    "    acc= accuracy_score(y_test_inner,yhat)\n",
    "    actual_scores.append(acc)\n",
    "    # report progress\n",
    "    print('>acc=%.3f, est=%.3f, cfg=%s' % (acc, grid_search.best_score_, grid_search.best_params_))\n",
    "# summarize the estimated performance of the model\n",
    "print('Accuracy: %.3f (%.3f)' % (mean(actual_scores), std(actual_scores)))"
   ],
   "metadata": {
    "collapsed": false,
    "ExecuteTime": {
     "start_time": "2023-05-16T04:59:25.760957Z",
     "end_time": "2023-05-16T05:13:50.129567Z"
    }
   }
  },
  {
   "cell_type": "markdown",
   "source": [
    "## Automated CV for parameter tuning"
   ],
   "metadata": {
    "collapsed": false
   }
  },
  {
   "cell_type": "markdown",
   "source": [
    ">acc=0.812, est=0.954, cfg={'max_depth': 5, 'min_samples_leaf': 1, 'min_samples_split': 5, 'n_estimators': 100}\n",
    ">acc=0.875, est=0.923, cfg={'max_depth': 10, 'min_samples_leaf': 2, 'min_samples_split': 10, 'n_estimators': 100}\n",
    ">acc=0.812, est=0.858, cfg={'max_depth': 5, 'min_samples_leaf': 1, 'min_samples_split': 5, 'n_estimators': 200}\n",
    ">acc=1.000, est=0.908, cfg={'max_depth': 5, 'min_samples_leaf': 1, 'min_samples_split': 5, 'n_estimators': 100}\n",
    ">acc=0.875, est=0.873, cfg={'max_depth': 5, 'min_samples_leaf': 1, 'min_samples_split': 10, 'n_estimators': 100}\n",
    "Accuracy: 0.875 (0.068)"
   ],
   "metadata": {
    "collapsed": false
   }
  },
  {
   "cell_type": "markdown",
   "source": [
    " ## Print the mean accuracy and standard deviation of the validation sets"
   ],
   "metadata": {
    "collapsed": false
   }
  },
  {
   "cell_type": "markdown",
   "source": [
    "## Build final classifier with the best hyperparameters and find the accuracy - i will use the ones that came out with the best scoring"
   ],
   "metadata": {
    "collapsed": false
   }
  },
  {
   "cell_type": "code",
   "execution_count": 196,
   "outputs": [
    {
     "data": {
      "text/plain": "RandomForestClassifier(max_depth=5, min_samples_split=5)",
      "text/html": "<style>#sk-container-id-25 {color: black;background-color: white;}#sk-container-id-25 pre{padding: 0;}#sk-container-id-25 div.sk-toggleable {background-color: white;}#sk-container-id-25 label.sk-toggleable__label {cursor: pointer;display: block;width: 100%;margin-bottom: 0;padding: 0.3em;box-sizing: border-box;text-align: center;}#sk-container-id-25 label.sk-toggleable__label-arrow:before {content: \"▸\";float: left;margin-right: 0.25em;color: #696969;}#sk-container-id-25 label.sk-toggleable__label-arrow:hover:before {color: black;}#sk-container-id-25 div.sk-estimator:hover label.sk-toggleable__label-arrow:before {color: black;}#sk-container-id-25 div.sk-toggleable__content {max-height: 0;max-width: 0;overflow: hidden;text-align: left;background-color: #f0f8ff;}#sk-container-id-25 div.sk-toggleable__content pre {margin: 0.2em;color: black;border-radius: 0.25em;background-color: #f0f8ff;}#sk-container-id-25 input.sk-toggleable__control:checked~div.sk-toggleable__content {max-height: 200px;max-width: 100%;overflow: auto;}#sk-container-id-25 input.sk-toggleable__control:checked~label.sk-toggleable__label-arrow:before {content: \"▾\";}#sk-container-id-25 div.sk-estimator input.sk-toggleable__control:checked~label.sk-toggleable__label {background-color: #d4ebff;}#sk-container-id-25 div.sk-label input.sk-toggleable__control:checked~label.sk-toggleable__label {background-color: #d4ebff;}#sk-container-id-25 input.sk-hidden--visually {border: 0;clip: rect(1px 1px 1px 1px);clip: rect(1px, 1px, 1px, 1px);height: 1px;margin: -1px;overflow: hidden;padding: 0;position: absolute;width: 1px;}#sk-container-id-25 div.sk-estimator {font-family: monospace;background-color: #f0f8ff;border: 1px dotted black;border-radius: 0.25em;box-sizing: border-box;margin-bottom: 0.5em;}#sk-container-id-25 div.sk-estimator:hover {background-color: #d4ebff;}#sk-container-id-25 div.sk-parallel-item::after {content: \"\";width: 100%;border-bottom: 1px solid gray;flex-grow: 1;}#sk-container-id-25 div.sk-label:hover label.sk-toggleable__label {background-color: #d4ebff;}#sk-container-id-25 div.sk-serial::before {content: \"\";position: absolute;border-left: 1px solid gray;box-sizing: border-box;top: 0;bottom: 0;left: 50%;z-index: 0;}#sk-container-id-25 div.sk-serial {display: flex;flex-direction: column;align-items: center;background-color: white;padding-right: 0.2em;padding-left: 0.2em;position: relative;}#sk-container-id-25 div.sk-item {position: relative;z-index: 1;}#sk-container-id-25 div.sk-parallel {display: flex;align-items: stretch;justify-content: center;background-color: white;position: relative;}#sk-container-id-25 div.sk-item::before, #sk-container-id-25 div.sk-parallel-item::before {content: \"\";position: absolute;border-left: 1px solid gray;box-sizing: border-box;top: 0;bottom: 0;left: 50%;z-index: -1;}#sk-container-id-25 div.sk-parallel-item {display: flex;flex-direction: column;z-index: 1;position: relative;background-color: white;}#sk-container-id-25 div.sk-parallel-item:first-child::after {align-self: flex-end;width: 50%;}#sk-container-id-25 div.sk-parallel-item:last-child::after {align-self: flex-start;width: 50%;}#sk-container-id-25 div.sk-parallel-item:only-child::after {width: 0;}#sk-container-id-25 div.sk-dashed-wrapped {border: 1px dashed gray;margin: 0 0.4em 0.5em 0.4em;box-sizing: border-box;padding-bottom: 0.4em;background-color: white;}#sk-container-id-25 div.sk-label label {font-family: monospace;font-weight: bold;display: inline-block;line-height: 1.2em;}#sk-container-id-25 div.sk-label-container {text-align: center;}#sk-container-id-25 div.sk-container {/* jupyter's `normalize.less` sets `[hidden] { display: none; }` but bootstrap.min.css set `[hidden] { display: none !important; }` so we also need the `!important` here to be able to override the default hidden behavior on the sphinx rendered scikit-learn.org. See: https://github.com/scikit-learn/scikit-learn/issues/21755 */display: inline-block !important;position: relative;}#sk-container-id-25 div.sk-text-repr-fallback {display: none;}</style><div id=\"sk-container-id-25\" class=\"sk-top-container\"><div class=\"sk-text-repr-fallback\"><pre>RandomForestClassifier(max_depth=5, min_samples_split=5)</pre><b>In a Jupyter environment, please rerun this cell to show the HTML representation or trust the notebook. <br />On GitHub, the HTML representation is unable to render, please try loading this page with nbviewer.org.</b></div><div class=\"sk-container\" hidden><div class=\"sk-item\"><div class=\"sk-estimator sk-toggleable\"><input class=\"sk-toggleable__control sk-hidden--visually\" id=\"sk-estimator-id-25\" type=\"checkbox\" checked><label for=\"sk-estimator-id-25\" class=\"sk-toggleable__label sk-toggleable__label-arrow\">RandomForestClassifier</label><div class=\"sk-toggleable__content\"><pre>RandomForestClassifier(max_depth=5, min_samples_split=5)</pre></div></div></div></div></div>"
     },
     "execution_count": 196,
     "metadata": {},
     "output_type": "execute_result"
    }
   ],
   "source": [
    "clf_final =  RandomForestClassifier(max_depth=5, n_estimators=100, min_samples_split=5, min_samples_leaf=1)\n",
    "\n",
    "clf_final.fit(selected_features, y_train)"
   ],
   "metadata": {
    "collapsed": false,
    "ExecuteTime": {
     "start_time": "2023-05-16T05:17:01.553956Z",
     "end_time": "2023-05-16T05:17:01.743321Z"
    }
   }
  },
  {
   "cell_type": "code",
   "execution_count": 199,
   "outputs": [],
   "source": [
    "# Evaluate the trained classifier on the test set\n",
    "selected_features_test_final = X_test.loc[:, rfecv.support_]\n",
    "y_pred_final = clf_final.predict(selected_features_test_final)\n",
    "score_total = accuracy_score(y_test, y_pred_final)\n",
    "precision = metrics.precision_score(y_test, y_pred_final, average='macro')\n",
    "recall = metrics.recall_score(y_test, y_pred_final, average='macro')\n",
    "f1_score = metrics.f1_score(y_test, y_pred_final, average='macro')\n"
   ],
   "metadata": {
    "collapsed": false,
    "ExecuteTime": {
     "start_time": "2023-05-16T05:17:25.928453Z",
     "end_time": "2023-05-16T05:17:26.314469Z"
    }
   }
  },
  {
   "cell_type": "code",
   "execution_count": 200,
   "outputs": [
    {
     "name": "stdout",
     "output_type": "stream",
     "text": [
      " Accuracy: 85.00%\n",
      "Precision: 0.900\n",
      "Recall: 0.833\n",
      "F1-score: 0.830\n"
     ]
    }
   ],
   "source": [
    "print(\" Accuracy: {:.2f}%\".format(score_total * 100))\n",
    "print(f'Precision: {precision:.3f}')\n",
    "print(f'Recall: {recall:.3f}')\n",
    "print(f'F1-score: {f1_score:.3f}')\n"
   ],
   "metadata": {
    "collapsed": false,
    "ExecuteTime": {
     "start_time": "2023-05-16T05:17:27.625535Z",
     "end_time": "2023-05-16T05:17:27.652127Z"
    }
   }
  },
  {
   "cell_type": "code",
   "execution_count": 201,
   "outputs": [
    {
     "data": {
      "text/plain": "<Figure size 640x480 with 1 Axes>",
      "image/png": "[encoded data removed]"
     },
     "metadata": {},
     "output_type": "display_data"
    }
   ],
   "source": [
    "importances = clf_final.feature_importances_\n",
    "n= 18\n",
    "indices = importances.argsort()[::-1][:n]\n",
    "# Visualize the feature importances\n",
    "std = np.std([tree.feature_importances_ for tree in clf_final.estimators_], axis=0)\n",
    "indices = np.argsort(importances)[::-1]\n",
    "\n",
    "plt.figure()\n",
    "plt.title(\"Feature importances\")\n",
    "plt.bar(range(selected_features.shape[1]), importances[indices], color=\"r\", yerr=std[indices], align=\"center\")\n",
    "plt.xticks(range(selected_features.shape[1]), selected_features.columns[indices], rotation=90)\n",
    "plt.xlim([-1, selected_features.shape[1]])\n",
    "plt.show()\n"
   ],
   "metadata": {
    "collapsed": false,
    "ExecuteTime": {
     "start_time": "2023-05-16T05:17:29.232674Z",
     "end_time": "2023-05-16T05:17:29.973577Z"
    }
   }
  },
  {
   "cell_type": "code",
   "execution_count": 202,
   "outputs": [
    {
     "data": {
      "text/plain": "<Axes: >"
     },
     "execution_count": 202,
     "metadata": {},
     "output_type": "execute_result"
    },
    {
     "data": {
      "text/plain": "<Figure size 640x480 with 2 Axes>",
      "image/png": "[encoded data removed]"
     },
     "metadata": {},
     "output_type": "display_data"
    }
   ],
   "source": [
    "cm = confusion_matrix(y_test, y_pred_final)\n",
    "labels = [\"HER2+\", \"HR+\", \"Triple Neg\"]\n",
    "sns.heatmap(cm, annot=True, cmap=\"plasma\", fmt=\"d\", xticklabels=labels, yticklabels=labels)"
   ],
   "metadata": {
    "collapsed": false,
    "ExecuteTime": {
     "start_time": "2023-05-16T05:17:33.112976Z",
     "end_time": "2023-05-16T05:17:33.474878Z"
    }
   }
  },
  {
   "cell_type": "code",
   "execution_count": 206,
   "outputs": [
    {
     "name": "stdout",
     "output_type": "stream",
     "text": [
      "              precision    recall  f1-score   support\n",
      "\n",
      "       HER2+       1.00      1.00      1.00         7\n",
      "         HR+       0.70      1.00      0.82         7\n",
      "  Triple Neg       1.00      0.50      0.67         6\n",
      "\n",
      "    accuracy                           0.85        20\n",
      "   macro avg       0.90      0.83      0.83        20\n",
      "weighted avg       0.89      0.85      0.84        20\n",
      "\n"
     ]
    }
   ],
   "source": [
    "# Create a classification report\n",
    "cr = classification_report(y_test, y_pred_final)\n",
    "print(cr)\n"
   ],
   "metadata": {
    "collapsed": false,
    "ExecuteTime": {
     "start_time": "2023-05-16T05:18:09.331356Z",
     "end_time": "2023-05-16T05:18:09.390235Z"
    }
   }
  },
  {
   "cell_type": "markdown",
   "source": [
    "## Export to pkl"
   ],
   "metadata": {
    "collapsed": false
   }
  },
  {
   "cell_type": "code",
   "execution_count": 205,
   "outputs": [],
   "source": [
    "import pickle\n",
    "pickle.dump(clf_final, open('rfe-rf.pkl', 'wb'))"
   ],
   "metadata": {
    "collapsed": false,
    "ExecuteTime": {
     "start_time": "2023-05-16T05:17:54.879660Z",
     "end_time": "2023-05-16T05:17:54.927192Z"
    }
   }
  },
  {
   "cell_type": "code",
   "execution_count": null,
   "outputs": [],
   "source": [],
   "metadata": {
    "collapsed": false
   }
  }
 ],
 "metadata": {
  "kernelspec": {
   "display_name": "Python 3",
   "language": "python",
   "name": "python3"
  },
  "language_info": {
   "codemirror_mode": {
    "name": "ipython",
    "version": 2
   },
   "file_extension": ".py",
   "mimetype": "text/x-python",
   "name": "python",
   "nbconvert_exporter": "python",
   "pygments_lexer": "ipython2",
   "version": "2.7.6"
  }
 },
 "nbformat": 4,
 "nbformat_minor": 0
}
