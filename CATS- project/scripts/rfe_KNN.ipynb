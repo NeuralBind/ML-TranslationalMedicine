{
 "cells": [
  {
   "cell_type": "code",
   "execution_count": 87,
   "metadata": {
    "collapsed": true,
    "ExecuteTime": {
     "start_time": "2023-05-16T04:49:14.437651Z",
     "end_time": "2023-05-16T04:49:14.451658Z"
    }
   },
   "outputs": [],
   "source": [
    "from sklearn.model_selection import StratifiedKFold, GridSearchCV\n",
    "from sklearn.feature_selection import RFECV\n",
    "from sklearn.linear_model import LogisticRegression\n",
    "from sklearn.metrics import accuracy_score\n",
    "from train_set import Training_set\n",
    "from sklearn.neighbors import KNeighborsClassifier\n",
    "from sklearn.model_selection import train_test_split\n",
    "from sklearn.preprocessing import StandardScaler\n",
    "from sklearn.metrics import confusion_matrix, classification_report\n",
    "from sklearn import metrics\n",
    "import seaborn as sns\n",
    "from numpy import mean\n",
    "from numpy import std\n",
    "import pandas as pd\n"
   ]
  },
  {
   "cell_type": "code",
   "execution_count": null,
   "outputs": [],
   "source": [
    "X = Training_set.iloc[:, :-1]\n",
    "#Y has the last col with labels\n",
    "y = Training_set.iloc[:, -1]\n",
    "\n",
    "# split the dataset to train and test, the 2nd is for the non feature selection\n",
    "\n",
    "X_train, X_test, y_train, y_test = train_test_split(X, y, test_size=0.2, random_state=42)\n",
    "\n",
    "scaler = StandardScaler().fit(X_train)\n",
    "scaler\n",
    "StandardScaler()\n",
    "\n",
    "X_scaled = scaler.transform(X_train)"
   ],
   "metadata": {
    "collapsed": false,
    "ExecuteTime": {
     "start_time": "2023-05-16T04:44:57.886590Z",
     "end_time": "2023-05-16T04:44:57.911841Z"
    }
   }
  },
  {
   "cell_type": "code",
   "execution_count": null,
   "outputs": [],
   "source": [
    "# feature selection using RFECV with logistic regression estimator\n",
    "clf = LogisticRegression()\n",
    "cv_inner = StratifiedKFold(n_splits=5, shuffle=True, random_state=42)\n",
    "rfecv = RFECV(\n",
    "    estimator=clf,\n",
    "    step=1,\n",
    "    cv=cv_inner,\n",
    "    scoring=\"accuracy\",\n",
    "    min_features_to_select=1,\n",
    "    n_jobs=2,\n",
    ")\n",
    "rfecv.fit(X_scaled, y_train)\n",
    "\n",
    "\n",
    "print(f\"Optimal number of features: {rfecv.n_features_}\")"
   ],
   "metadata": {
    "collapsed": false,
    "ExecuteTime": {
     "start_time": "2023-05-15T22:29:08.168145Z",
     "end_time": "2023-05-15T22:51:09.182488Z"
    }
   }
  },
  {
   "cell_type": "code",
   "execution_count": null,
   "outputs": [],
   "source": [
    "# Select the most important features\n",
    "X_train_selected = rfecv.transform(X_train)\n",
    "\n",
    "X_test_selected = rfecv.transform(X_test)\n",
    "selected_features_in = X.loc[:, rfecv.support_]\n",
    "# Normalize the features\n",
    "scaler = StandardScaler()\n",
    "X_train_norm = scaler.fit_transform(X_train_selected)\n",
    "X_test_norm = scaler.transform(X_test_selected)"
   ],
   "metadata": {
    "collapsed": false,
    "ExecuteTime": {
     "start_time": "2023-05-16T04:41:21.476029Z",
     "end_time": "2023-05-16T04:41:21.550446Z"
    }
   }
  },
  {
   "cell_type": "markdown",
   "source": [
    "# IF I IMPORT IT FROM ANOTHER FILE READY AND NOT RUN RFECV"
   ],
   "metadata": {
    "collapsed": false
   }
  },
  {
   "cell_type": "code",
   "execution_count": 89,
   "outputs": [],
   "source": [
    "\n",
    "X = pd.read_csv(\"RFE_FEATURES.csv\", index_col= 0)\n",
    "X_train, X_test, y_train, y_test = train_test_split(X, y, test_size=0.2, random_state=42)\n",
    "\n",
    "# Select the most important features\n",
    "X_train_selected =X_train\n",
    "X_test_selected = X_test\n",
    "# Normalize the features\n",
    "scaler = StandardScaler()\n",
    "X_train_norm = scaler.fit_transform(X_train_selected)\n",
    "X_test_norm = scaler.transform(X_test_selected)"
   ],
   "metadata": {
    "collapsed": false,
    "ExecuteTime": {
     "start_time": "2023-05-16T04:49:33.284816Z",
     "end_time": "2023-05-16T04:49:33.300815Z"
    }
   }
  },
  {
   "cell_type": "code",
   "execution_count": null,
   "outputs": [],
   "source": [
    "# parameter grid\n",
    "\n",
    "param_grid = [{\n",
    "    'n_neighbors': [3,5,7,9],\n",
    "    'weights': ['uniform', 'distance'],\n",
    "    'metric': ['euclidean', 'manhattan']}]\n",
    "knn = KNeighborsClassifier()\n",
    "# Split the data into training and testing sets\n",
    "skf_outer = StratifiedKFold(n_splits=10, shuffle=True, random_state=42)\n",
    "\n",
    "# defining parameter range\n",
    "grid = GridSearchCV(knn, param_grid, cv=skf_outer, scoring='accuracy', return_train_score=False,verbose=1)\n",
    "\n",
    "# fitting the model for grid search\n",
    "grid_search=grid.fit(X_train_norm, y_train)\n",
    "\n",
    "# Best test parameters and the corresponding mean cross validation score\n",
    "print('Best parameters: ', grid_search.best_params_)\n",
    "print('Best cross-validation score: {:.3f}'.format(grid_search.best_score_))"
   ],
   "metadata": {
    "collapsed": false,
    "ExecuteTime": {
     "start_time": "2023-05-16T00:26:28.452433Z",
     "end_time": "2023-05-16T00:26:29.320566Z"
    }
   }
  },
  {
   "cell_type": "code",
   "execution_count": null,
   "outputs": [],
   "source": [
    "accuracy = grid_search.best_score_ *100\n",
    "print(\"Accuracy for our training dataset with tuning is : {:.2f}%\".format(accuracy) )\n"
   ],
   "metadata": {
    "collapsed": false,
    "ExecuteTime": {
     "start_time": "2023-05-16T00:26:33.362637Z",
     "end_time": "2023-05-16T00:26:33.391528Z"
    }
   }
  },
  {
   "cell_type": "markdown",
   "source": [
    "## NESTED CV"
   ],
   "metadata": {
    "collapsed": false
   }
  },
  {
   "cell_type": "code",
   "execution_count": 90,
   "outputs": [
    {
     "name": "stdout",
     "output_type": "stream",
     "text": [
      "Fitting 5 folds for each of 8 candidates, totalling 40 fits\n",
      ">acc=0.875, est=0.874, cfg={'n_neighbors': 3, 'weights': 'uniform'}\n",
      "Fitting 5 folds for each of 8 candidates, totalling 40 fits\n",
      ">acc=0.875, est=0.923, cfg={'n_neighbors': 9, 'weights': 'distance'}\n",
      "Fitting 5 folds for each of 8 candidates, totalling 40 fits\n",
      ">acc=0.938, est=0.844, cfg={'n_neighbors': 7, 'weights': 'distance'}\n",
      "Fitting 5 folds for each of 8 candidates, totalling 40 fits\n",
      ">acc=0.812, est=0.862, cfg={'n_neighbors': 9, 'weights': 'uniform'}\n",
      "Fitting 5 folds for each of 8 candidates, totalling 40 fits\n",
      ">acc=0.875, est=0.858, cfg={'n_neighbors': 5, 'weights': 'distance'}\n",
      "Accuracy: 0.875 (0.040)\n"
     ]
    }
   ],
   "source": [
    "# Split the generated data into training and testing sets\n",
    "skf_outer = StratifiedKFold(n_splits=5, shuffle=True, random_state=42)\n",
    "actual_scores = []\n",
    "\n",
    "# Define the parameter grid for the random forest classifier\n",
    "param_grid = [{\n",
    "    'n_neighbors': [3,5,7,9],\n",
    "    'weights': ['uniform', 'distance']}]\n",
    "\n",
    "for train_index_inner, test_index_inner in skf_outer.split(X_train_norm, y_train):\n",
    "    X_train_inner, X_test_inner = X_train_norm[train_index_inner], X_train_norm[test_index_inner]\n",
    "    y_train_inner, y_test_inner = y_train.iloc[train_index_inner], y_train.iloc[test_index_inner]\n",
    "\n",
    "    # parameter tuning for the random forest classifier using GridSearchCV\n",
    "    knn = KNeighborsClassifier()\n",
    "\n",
    "    # Inner cross-validation loop for hyperparameter tuning\n",
    "    skf_inner = StratifiedKFold(n_splits=5, shuffle=True, random_state=42)\n",
    "    # defining parameter range\n",
    "    grid = GridSearchCV(knn, param_grid, cv=skf_inner, scoring='accuracy', return_train_score=False,verbose=1)\n",
    "\n",
    "    grid_search= grid.fit(X_train_inner, y_train_inner)\n",
    "    best_model = grid_search.best_estimator_\n",
    "    yhat = best_model.predict(X_test_inner)\n",
    "    acc= accuracy_score(y_test_inner,yhat)\n",
    "    actual_scores.append(acc)\n",
    "    # report progress\n",
    "    print('>acc=%.3f, est=%.3f, cfg=%s' % (acc, grid_search.best_score_, grid_search.best_params_))\n",
    "# summarize the estimated performance of the model\n",
    "print('Accuracy: %.3f (%.3f)' % (mean(actual_scores), std(actual_scores)))"
   ],
   "metadata": {
    "collapsed": false,
    "ExecuteTime": {
     "start_time": "2023-05-16T04:49:38.814201Z",
     "end_time": "2023-05-16T04:49:39.420021Z"
    }
   }
  },
  {
   "cell_type": "markdown",
   "source": [
    "# FINAL MODEL evaluation"
   ],
   "metadata": {
    "collapsed": false
   }
  },
  {
   "cell_type": "code",
   "execution_count": 91,
   "outputs": [
    {
     "name": "stdout",
     "output_type": "stream",
     "text": [
      "Accuracy for our testing dataset with tuning is : 80.00%\n",
      "Precision: 0.879\n",
      "Recall: 0.778\n",
      "F1-score: 0.759\n"
     ]
    }
   ],
   "source": [
    "knn = KNeighborsClassifier(n_neighbors=5, metric='euclidean',weights='distance')\n",
    "\n",
    "knn.fit(X_train_norm, y_train)\n",
    "\n",
    "y_test_hat=knn.predict(X_test_norm)\n",
    "\n",
    "test_accuracy=accuracy_score(y_test,y_test_hat)*100\n",
    "\n",
    "print(\"Accuracy for our testing dataset with tuning is : {:.2f}%\".format(test_accuracy) )\n",
    "\n",
    "precision = metrics.precision_score(y_test, y_test_hat, average='macro')\n",
    "recall = metrics.recall_score(y_test, y_test_hat, average='macro')\n",
    "f1_score = metrics.f1_score(y_test, y_test_hat, average='macro')\n",
    "\n",
    "print(f'Precision: {precision:.3f}')\n",
    "print(f'Recall: {recall:.3f}')\n",
    "print(f'F1-score: {f1_score:.3f}')\n"
   ],
   "metadata": {
    "collapsed": false,
    "ExecuteTime": {
     "start_time": "2023-05-16T04:50:00.310406Z",
     "end_time": "2023-05-16T04:50:00.324938Z"
    }
   }
  },
  {
   "cell_type": "code",
   "execution_count": 92,
   "outputs": [
    {
     "data": {
      "text/plain": "<Axes: >"
     },
     "execution_count": 92,
     "metadata": {},
     "output_type": "execute_result"
    },
    {
     "data": {
      "text/plain": "<Figure size 640x480 with 2 Axes>",
      "image/png": "[encoded data removed]"
     },
     "metadata": {},
     "output_type": "display_data"
    }
   ],
   "source": [
    "# Confusion matrix\n",
    "cm = confusion_matrix(y_test, y_test_hat)\n",
    "labels = [\"HER2+\", \"HR+\", \"Triple Neg\"]\n",
    "sns.heatmap(cm, annot=True, cmap=\"plasma\", fmt=\"d\", xticklabels=labels, yticklabels=labels)"
   ],
   "metadata": {
    "collapsed": false,
    "ExecuteTime": {
     "start_time": "2023-05-16T04:50:01.582831Z",
     "end_time": "2023-05-16T04:50:01.939093Z"
    }
   }
  },
  {
   "cell_type": "code",
   "execution_count": 93,
   "outputs": [
    {
     "name": "stdout",
     "output_type": "stream",
     "text": [
      "              precision    recall  f1-score   support\n",
      "\n",
      "       HER2+       1.00      1.00      1.00         7\n",
      "         HR+       0.64      1.00      0.78         7\n",
      "  Triple Neg       1.00      0.33      0.50         6\n",
      "\n",
      "    accuracy                           0.80        20\n",
      "   macro avg       0.88      0.78      0.76        20\n",
      "weighted avg       0.87      0.80      0.77        20\n",
      "\n"
     ]
    }
   ],
   "source": [
    "# Create a classification report\n",
    "cr1 = classification_report(y_test, y_test_hat)\n",
    "print(cr1)\n"
   ],
   "metadata": {
    "collapsed": false,
    "ExecuteTime": {
     "start_time": "2023-05-16T04:50:16.380276Z",
     "end_time": "2023-05-16T04:50:16.429776Z"
    }
   }
  },
  {
   "cell_type": "code",
   "execution_count": 94,
   "outputs": [],
   "source": [
    "import pickle\n",
    "pickle.dump(knn, open('rfe_knn.pkl', 'wb'))"
   ],
   "metadata": {
    "collapsed": false,
    "ExecuteTime": {
     "start_time": "2023-05-16T04:50:46.668979Z",
     "end_time": "2023-05-16T04:50:46.676980Z"
    }
   }
  },
  {
   "cell_type": "code",
   "execution_count": null,
   "outputs": [],
   "source": [],
   "metadata": {
    "collapsed": false
   }
  }
 ],
 "metadata": {
  "kernelspec": {
   "display_name": "Python 3",
   "language": "python",
   "name": "python3"
  },
  "language_info": {
   "codemirror_mode": {
    "name": "ipython",
    "version": 2
   },
   "file_extension": ".py",
   "mimetype": "text/x-python",
   "name": "python",
   "nbconvert_exporter": "python",
   "pygments_lexer": "ipython2",
   "version": "2.7.6"
  }
 },
 "nbformat": 4,
 "nbformat_minor": 0
}
