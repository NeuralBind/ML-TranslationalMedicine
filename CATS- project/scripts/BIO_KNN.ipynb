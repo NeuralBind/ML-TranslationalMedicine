{
 "cells": [
  {
   "cell_type": "code",
   "execution_count": 3,
   "metadata": {
    "collapsed": true,
    "ExecuteTime": {
     "start_time": "2023-05-16T23:07:28.888356Z",
     "end_time": "2023-05-16T23:07:29.964278Z"
    }
   },
   "outputs": [],
   "source": [
    "import pandas as pd\n",
    "from sklearn.model_selection import StratifiedKFold, GridSearchCV\n",
    "from sklearn.metrics import accuracy_score\n",
    "from train_set import Training_set\n",
    "from sklearn.neighbors import KNeighborsClassifier\n",
    "from sklearn.model_selection import train_test_split\n",
    "from sklearn.preprocessing import StandardScaler\n",
    "from sklearn import metrics\n",
    "import pandas as pd\n",
    "from numpy import std, mean"
   ]
  },
  {
   "cell_type": "code",
   "execution_count": 25,
   "outputs": [
    {
     "name": "stdout",
     "output_type": "stream",
     "text": [
      "           69274433-70345552  196908262-196937230  19049822-20716660  \\\n",
      "Array.129                 -1                    0                  0   \n",
      "Array.34                   0                    0                  0   \n",
      "Array.67                   0                   -1                  0   \n",
      "Array.24                  -1                    0                  0   \n",
      "Array.22                   0                    0                  1   \n",
      "...                      ...                  ...                ...   \n",
      "Array.10                   0                    0                  0   \n",
      "Array.123                  0                    1                  1   \n",
      "Array.100                 -1                    0                  0   \n",
      "Array.134                  0                    1                  1   \n",
      "Array.130                 -1                    0                  0   \n",
      "\n",
      "           131304839-132036965  70574871-71644041  97852156-98629015  \\\n",
      "Array.129                    1                  1                  0   \n",
      "Array.34                    -1                  2                  0   \n",
      "Array.67                    -1                  0                  0   \n",
      "Array.24                    -1                 -1                 -1   \n",
      "Array.22                    -1                  0                  0   \n",
      "...                        ...                ...                ...   \n",
      "Array.10                     1                  0                  0   \n",
      "Array.123                   -1                  2                  1   \n",
      "Array.100                    0                  0                  0   \n",
      "Array.134                   -1                  1                  1   \n",
      "Array.130                    1                  0                  0   \n",
      "\n",
      "           67314736-68371045  35076296-35282086  41062669-41447005  \\\n",
      "Array.129                  1                  2                 -1   \n",
      "Array.34                   0                  0                  0   \n",
      "Array.67                  -1                 -1                  0   \n",
      "Array.24                   0                  0                  1   \n",
      "Array.22                  -1                  0                  0   \n",
      "...                      ...                ...                ...   \n",
      "Array.10                   0                  2                 -1   \n",
      "Array.123                 -1                  0                  0   \n",
      "Array.100                  0                  0                  0   \n",
      "Array.134                 -1                  1                  1   \n",
      "Array.130                  0                  2                 -1   \n",
      "\n",
      "           194755-763411    Subgroup  \n",
      "Array.129              0       HER2+  \n",
      "Array.34               0         HR+  \n",
      "Array.67               0         HR+  \n",
      "Array.24               0  Triple Neg  \n",
      "Array.22               0  Triple Neg  \n",
      "...                  ...         ...  \n",
      "Array.10               0       HER2+  \n",
      "Array.123              0         HR+  \n",
      "Array.100              0         HR+  \n",
      "Array.134              1         HR+  \n",
      "Array.130             -1       HER2+  \n",
      "\n",
      "[100 rows x 11 columns]\n",
      "           69274433-70345552  196908262-196937230  19049822-20716660  \\\n",
      "Array.129                 -1                    0                  0   \n",
      "Array.34                   0                    0                  0   \n",
      "Array.67                   0                   -1                  0   \n",
      "Array.24                  -1                    0                  0   \n",
      "Array.22                   0                    0                  1   \n",
      "...                      ...                  ...                ...   \n",
      "Array.10                   0                    0                  0   \n",
      "Array.123                  0                    1                  1   \n",
      "Array.100                 -1                    0                  0   \n",
      "Array.134                  0                    1                  1   \n",
      "Array.130                 -1                    0                  0   \n",
      "\n",
      "           131304839-132036965  70574871-71644041  97852156-98629015  \\\n",
      "Array.129                    1                  1                  0   \n",
      "Array.34                    -1                  2                  0   \n",
      "Array.67                    -1                  0                  0   \n",
      "Array.24                    -1                 -1                 -1   \n",
      "Array.22                    -1                  0                  0   \n",
      "...                        ...                ...                ...   \n",
      "Array.10                     1                  0                  0   \n",
      "Array.123                   -1                  2                  1   \n",
      "Array.100                    0                  0                  0   \n",
      "Array.134                   -1                  1                  1   \n",
      "Array.130                    1                  0                  0   \n",
      "\n",
      "           67314736-68371045  35076296-35282086  41062669-41447005  \\\n",
      "Array.129                  1                  2                 -1   \n",
      "Array.34                   0                  0                  0   \n",
      "Array.67                  -1                 -1                  0   \n",
      "Array.24                   0                  0                  1   \n",
      "Array.22                  -1                  0                  0   \n",
      "...                      ...                ...                ...   \n",
      "Array.10                   0                  2                 -1   \n",
      "Array.123                 -1                  0                  0   \n",
      "Array.100                  0                  0                  0   \n",
      "Array.134                 -1                  1                  1   \n",
      "Array.130                  0                  2                 -1   \n",
      "\n",
      "           194755-763411  \n",
      "Array.129              0  \n",
      "Array.34               0  \n",
      "Array.67               0  \n",
      "Array.24               0  \n",
      "Array.22               0  \n",
      "...                  ...  \n",
      "Array.10               0  \n",
      "Array.123              0  \n",
      "Array.100              0  \n",
      "Array.134              1  \n",
      "Array.130             -1  \n",
      "\n",
      "[100 rows x 10 columns]\n"
     ]
    }
   ],
   "source": [
    "bio_features = pd.read_csv(\"bio_data.csv\", index_col= 0)\n",
    "X = bio_features\n",
    "#Y has the last col with labels\n",
    "y = Training_set.iloc[:, -1]\n",
    "# split the dataset to train and test, the 2nd is for the non feature selection\n",
    "Training_data = pd.merge(X, y, left_index=True, right_index=True)\n",
    "print(Training_data)\n",
    "\n",
    "X = Training_data.iloc[:, :-1]\n",
    "#Y has the last col with labels\n",
    "y = Training_data.iloc[:, -1]\n",
    "\n",
    "X_train, X_test, y_train, y_test = train_test_split(X, y, test_size=0.2, random_state=42)\n",
    "print(X)"
   ],
   "metadata": {
    "collapsed": false,
    "ExecuteTime": {
     "start_time": "2023-05-17T01:34:27.716760Z",
     "end_time": "2023-05-17T01:34:27.785068Z"
    }
   }
  },
  {
   "cell_type": "code",
   "execution_count": 23,
   "outputs": [],
   "source": [
    "# Select the most important features\n",
    "X_train_selected = X_train\n",
    "X_test_selected = X_test\n",
    "\n",
    "# Normalize the features\n",
    "scaler = StandardScaler()\n",
    "X_train_norm = scaler.fit_transform(X_train_selected)\n",
    "X_test_norm = scaler.transform(X_test_selected)"
   ],
   "metadata": {
    "collapsed": false,
    "ExecuteTime": {
     "start_time": "2023-05-16T23:36:47.963309Z",
     "end_time": "2023-05-16T23:36:47.991068Z"
    }
   }
  },
  {
   "cell_type": "code",
   "execution_count": 48,
   "outputs": [],
   "source": [],
   "metadata": {
    "collapsed": false,
    "ExecuteTime": {
     "start_time": "2023-05-16T05:20:17.914930Z",
     "end_time": "2023-05-16T05:20:17.927931Z"
    }
   }
  },
  {
   "cell_type": "markdown",
   "source": [
    "# Nested CV"
   ],
   "metadata": {
    "collapsed": false
   }
  },
  {
   "cell_type": "code",
   "execution_count": 7,
   "outputs": [
    {
     "name": "stdout",
     "output_type": "stream",
     "text": [
      "Fitting 5 folds for each of 8 candidates, totalling 40 fits\n",
      ">acc=0.875, est=0.860, cfg={'n_neighbors': 7, 'weights': 'distance'}\n",
      "Fitting 5 folds for each of 8 candidates, totalling 40 fits\n",
      ">acc=0.875, est=0.828, cfg={'n_neighbors': 3, 'weights': 'uniform'}\n",
      "Fitting 5 folds for each of 8 candidates, totalling 40 fits\n",
      ">acc=0.938, est=0.812, cfg={'n_neighbors': 3, 'weights': 'distance'}\n",
      "Fitting 5 folds for each of 8 candidates, totalling 40 fits\n",
      ">acc=0.875, est=0.876, cfg={'n_neighbors': 3, 'weights': 'uniform'}\n",
      "Fitting 5 folds for each of 8 candidates, totalling 40 fits\n",
      ">acc=0.875, est=0.844, cfg={'n_neighbors': 3, 'weights': 'distance'}\n",
      "Accuracy: 0.887 (0.025)\n"
     ]
    }
   ],
   "source": [
    "# Split the generated data into training and testing sets\n",
    "skf_outer = StratifiedKFold(n_splits=5, shuffle=True, random_state=42)\n",
    "actual_scores = []\n",
    "\n",
    "# Define the parameter grid for the random forest classifier\n",
    "param_grid = {\n",
    "    'n_neighbors': [3,5,7,9],\n",
    "    'weights': ['uniform', 'distance']}\n",
    "\n",
    "for train_index_inner, test_index_inner in skf_outer.split(X_train_norm, y_train):\n",
    "    X_train_inner, X_test_inner = X_train_norm[train_index_inner], X_train_norm[test_index_inner]\n",
    "    y_train_inner, y_test_inner = y_train.iloc[train_index_inner], y_train.iloc[test_index_inner]\n",
    "\n",
    "    # parameter tuning for the random forest classifier using GridSearchCV\n",
    "    knn = KNeighborsClassifier()\n",
    "\n",
    "    # Inner cross-validation loop for hyperparameter tuning\n",
    "    skf_inner = StratifiedKFold(n_splits=5, shuffle=True, random_state=42)\n",
    "    # defining parameter range\n",
    "    grid = GridSearchCV(knn, param_grid, cv=skf_inner, scoring='accuracy', return_train_score=False,verbose=1)\n",
    "\n",
    "    grid_search=grid.fit(X_train_inner, y_train_inner)\n",
    "    best_model = grid_search.best_estimator_\n",
    "    yhat = best_model.predict(X_test_inner)\n",
    "    acc= accuracy_score(y_test_inner,yhat)\n",
    "    actual_scores.append(acc)\n",
    "    # report progress\n",
    "    print('>acc=%.3f, est=%.3f, cfg=%s' % (acc, grid_search.best_score_, grid_search.best_params_))\n",
    "# summarize the estimated performance of the model\n",
    "print('Accuracy: %.3f (%.3f)' % (mean(actual_scores), std(actual_scores)))"
   ],
   "metadata": {
    "collapsed": false,
    "ExecuteTime": {
     "start_time": "2023-05-16T23:08:01.647719Z",
     "end_time": "2023-05-16T23:08:02.432542Z"
    }
   }
  },
  {
   "cell_type": "markdown",
   "source": [
    "# Here we do a nestedcv but this time picking each of the outputs from the previous gridsearch of each loop and seeing each performance in all the loops picking the top one for the final model"
   ],
   "metadata": {
    "collapsed": false
   }
  },
  {
   "cell_type": "code",
   "execution_count": 19,
   "outputs": [
    {
     "name": "stdout",
     "output_type": "stream",
     "text": [
      ">acc=0.812\n",
      ">acc=0.875\n",
      ">acc=0.875\n",
      ">acc=0.938\n",
      ">acc=0.938\n",
      "Accuracy: 0.887 (0.047)\n"
     ]
    }
   ],
   "source": [
    "# Split the generated data into training and testing sets\n",
    "skf_outer2 = StratifiedKFold(n_splits=5, shuffle=True, random_state=42)\n",
    "actual_scores2 = []\n",
    "for train_index_inner, test_index_inner in skf_outer2.split(X_train, y_train):\n",
    "    X_train_inner, X_test_inner = X_train.iloc[train_index_inner], X_train.iloc[test_index_inner]\n",
    "    y_train_inner, y_test_inner = y_train.iloc[train_index_inner], y_train.iloc[test_index_inner]\n",
    "    knn_model = KNeighborsClassifier(n_neighbors= 3, weights= 'distance')\n",
    "\n",
    "    knn_eval = knn_model.fit(X_train_inner, y_train_inner)\n",
    "\n",
    "    yhat2 = knn_eval.predict(X_test_inner)\n",
    "    acc2= accuracy_score(y_test_inner,yhat2)\n",
    "    actual_scores2.append(acc2)\n",
    "    # report progress\n",
    "    print('>acc=%.3f' % (acc2))\n",
    "# summarize the estimated performance of the model\n",
    "print('Accuracy: %.3f (%.3f)' % (mean(actual_scores2), std(actual_scores2)))"
   ],
   "metadata": {
    "collapsed": false,
    "ExecuteTime": {
     "start_time": "2023-05-16T23:33:24.858637Z",
     "end_time": "2023-05-16T23:33:24.906721Z"
    }
   }
  },
  {
   "cell_type": "markdown",
   "source": [
    "# After finding optimal hyperparameters test Performance on the Test set"
   ],
   "metadata": {
    "collapsed": false
   }
  },
  {
   "cell_type": "code",
   "execution_count": 20,
   "outputs": [
    {
     "name": "stdout",
     "output_type": "stream",
     "text": [
      "Accuracy for our testing dataset with tuning is : 85.00%\n",
      "Precision: 0.900\n",
      "Recall: 0.833\n",
      "F1-score: 0.830\n"
     ]
    }
   ],
   "source": [
    "#  Put a number of k and uniform based on the previous part\n",
    "knn_final = KNeighborsClassifier(n_neighbors=3, weights='distance')\n",
    "\n",
    "knn_final.fit(X_train_norm, y_train)\n",
    "\n",
    "y_test_hat = knn_final.predict(X_test_norm)\n",
    "\n",
    "test_accuracy = accuracy_score(y_test, y_test_hat) * 100\n",
    "\n",
    "print(\"Accuracy for our testing dataset with tuning is : {:.2f}%\".format(test_accuracy))\n",
    "\n",
    "precision = metrics.precision_score(y_test, y_test_hat, average='macro')\n",
    "recall = metrics.recall_score(y_test, y_test_hat, average='macro')\n",
    "f1_score = metrics.f1_score(y_test, y_test_hat, average='macro')\n",
    "\n",
    "print(f'Precision: {precision:.3f}')\n",
    "print(f'Recall: {recall:.3f}')\n",
    "print(f'F1-score: {f1_score:.3f}')"
   ],
   "metadata": {
    "collapsed": false,
    "ExecuteTime": {
     "start_time": "2023-05-16T23:33:31.561176Z",
     "end_time": "2023-05-16T23:33:31.585181Z"
    }
   }
  },
  {
   "cell_type": "code",
   "execution_count": 24,
   "outputs": [
    {
     "name": "stdout",
     "output_type": "stream",
     "text": [
      "              precision    recall  f1-score   support\n",
      "\n",
      "       HER2+       1.00      1.00      1.00         7\n",
      "         HR+       0.70      1.00      0.82         7\n",
      "  Triple Neg       1.00      0.50      0.67         6\n",
      "\n",
      "    accuracy                           0.85        20\n",
      "   macro avg       0.90      0.83      0.83        20\n",
      "weighted avg       0.89      0.85      0.84        20\n",
      "\n"
     ]
    }
   ],
   "source": [
    "# Create a classification report\n",
    "from sklearn.metrics import classification_report\n",
    "\n",
    "\n",
    "cr = classification_report(y_test, y_test_hat)\n",
    "print(cr)"
   ],
   "metadata": {
    "collapsed": false,
    "ExecuteTime": {
     "start_time": "2023-05-16T23:44:05.489427Z",
     "end_time": "2023-05-16T23:44:05.503977Z"
    }
   }
  },
  {
   "cell_type": "code",
   "execution_count": null,
   "outputs": [],
   "source": [
    "import pickle\n",
    "pickle.dump(knn_final, open('knn_bio.pkl', 'wb'))"
   ],
   "metadata": {
    "collapsed": false,
    "ExecuteTime": {
     "start_time": "2023-05-16T04:17:47.521613Z",
     "end_time": "2023-05-16T04:17:47.543611Z"
    }
   }
  },
  {
   "cell_type": "code",
   "execution_count": null,
   "outputs": [],
   "source": [],
   "metadata": {
    "collapsed": false,
    "ExecuteTime": {
     "start_time": "2023-05-16T04:05:19.058427Z",
     "end_time": "2023-05-16T04:05:19.088431Z"
    }
   }
  }
 ],
 "metadata": {
  "kernelspec": {
   "display_name": "Python 3",
   "language": "python",
   "name": "python3"
  },
  "language_info": {
   "codemirror_mode": {
    "name": "ipython",
    "version": 2
   },
   "file_extension": ".py",
   "mimetype": "text/x-python",
   "name": "python",
   "nbconvert_exporter": "python",
   "pygments_lexer": "ipython2",
   "version": "2.7.6"
  }
 },
 "nbformat": 4,
 "nbformat_minor": 0
}
