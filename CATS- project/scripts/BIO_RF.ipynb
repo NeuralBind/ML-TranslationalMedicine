{
 "cells": [
  {
   "cell_type": "code",
   "execution_count": 74,
   "metadata": {
    "collapsed": true,
    "ExecuteTime": {
     "start_time": "2023-05-17T04:05:25.548958Z",
     "end_time": "2023-05-17T04:05:25.590056Z"
    }
   },
   "outputs": [],
   "source": [
    "import numpy as np\n",
    "import pandas as pd\n",
    "from sklearn.model_selection import StratifiedKFold, GridSearchCV\n",
    "from sklearn.ensemble import RandomForestClassifier\n",
    "from sklearn.metrics import accuracy_score\n",
    "from train_set import Training_set\n",
    "import matplotlib.pyplot as plt\n",
    "from sklearn.model_selection import train_test_split\n",
    "from sklearn import metrics\n",
    "from sklearn.metrics import  classification_report\n",
    "from numpy import mean, std"
   ]
  },
  {
   "cell_type": "markdown",
   "source": [
    "# Import the dataset of biological selected features"
   ],
   "metadata": {
    "collapsed": false
   }
  },
  {
   "cell_type": "code",
   "execution_count": 75,
   "outputs": [],
   "source": [
    "bio_features = pd.read_csv(\"bio_data.csv\", index_col= 0)\n",
    "X = bio_features\n",
    "#Y has the last col with labels\n",
    "y = Training_set.iloc[:, -1]\n",
    "# split the dataset to train and test, the 2nd is for the non feature selection\n",
    "Training_data = pd.merge(X, y, left_index=True, right_index=True)\n",
    "\n",
    "\n",
    "X = Training_data.iloc[:, :-1]\n",
    "#Y has the last col with labels\n",
    "y = Training_data.iloc[:, -1]\n",
    "X_train, X_test, y_train, y_test = train_test_split(X, y, test_size=0.2, random_state=42)"
   ],
   "metadata": {
    "collapsed": false,
    "ExecuteTime": {
     "start_time": "2023-05-17T04:05:26.854056Z",
     "end_time": "2023-05-17T04:05:26.875057Z"
    }
   }
  },
  {
   "cell_type": "markdown",
   "source": [
    "# NESTED CV to evaluate performance and get some good sets of hyperparameters"
   ],
   "metadata": {
    "collapsed": false
   }
  },
  {
   "cell_type": "code",
   "execution_count": null,
   "outputs": [],
   "source": [
    "# Split the generated data into training and testing sets\n",
    "skf_outer = StratifiedKFold(n_splits=5, shuffle=True, random_state=42)\n",
    "actual_scores = []\n",
    "\n",
    "# Define the parameter grid for the random forest classifier\n",
    "param_grid = {\n",
    "    'n_estimators': [100, 200, 300],\n",
    "    'max_depth': [5, 10, 20],\n",
    "    'min_samples_split': [2, 5, 10],\n",
    "    'min_samples_leaf': [1, 2, 4]\n",
    "}\n",
    "for train_index_inner, test_index_inner in skf_outer.split(X_train, y_train):\n",
    "    X_train_inner, X_test_inner = X_train.iloc[train_index_inner], X_train.iloc[test_index_inner]\n",
    "    y_train_inner, y_test_inner = y_train.iloc[train_index_inner], y_train.iloc[test_index_inner]\n",
    "\n",
    "    # parameter tuning for the random forest classifier using GridSearchCV\n",
    "    rf_model = RandomForestClassifier(random_state=42)\n",
    "\n",
    "    # Inner cross-validation loop for hyperparameter tuning\n",
    "    skf_inner = StratifiedKFold(n_splits=5, shuffle=True, random_state=42)\n",
    "    grid_search = GridSearchCV(RandomForestClassifier(), param_grid, scoring='accuracy', cv=skf_inner)\n",
    "\n",
    "    grid_search.fit(X_train_inner, y_train_inner)\n",
    "    best_model = grid_search.best_estimator_\n",
    "    yhat = best_model.predict(X_test_inner)\n",
    "    acc= accuracy_score(y_test_inner,yhat)\n",
    "    actual_scores.append(acc)\n",
    "    # report progress\n",
    "    print('>acc=%.3f, est=%.3f, cfg=%s' % (acc, grid_search.best_score_, grid_search.best_params_))\n",
    "# summarize the estimated performance of the model\n",
    "print('Accuracy: %.3f (%.3f)' % (mean(actual_scores), std(actual_scores)))"
   ],
   "metadata": {
    "collapsed": false,
    "ExecuteTime": {
     "start_time": "2023-05-16T23:06:28.577829Z",
     "end_time": "2023-05-16T23:19:10.416695Z"
    }
   }
  },
  {
   "cell_type": "markdown",
   "source": [
    "# Pick each set output of the previous grid search and evaluate each one in a nested cross-validation to see performance, and pick the one with mean highest accuracy as set for our final model."
   ],
   "metadata": {
    "collapsed": false
   }
  },
  {
   "cell_type": "code",
   "execution_count": 49,
   "outputs": [
    {
     "name": "stdout",
     "output_type": "stream",
     "text": [
      ">acc=0.875\n",
      ">acc=0.875\n",
      ">acc=0.812\n",
      ">acc=0.938\n",
      ">acc=1.000\n",
      "Accuracy: 0.900 (0.064)\n"
     ]
    }
   ],
   "source": [
    "# Split the generated data into training and testing sets\n",
    "skf_outer2 = StratifiedKFold(n_splits=5, shuffle=True, random_state=42)\n",
    "actual_scores2 = []\n",
    "\n",
    "\n",
    "for train_index_inner, test_index_inner in skf_outer2.split(X_train, y_train):\n",
    "    X_train_inner, X_test_inner = X_train.iloc[train_index_inner], X_train.iloc[test_index_inner]\n",
    "    y_train_inner, y_test_inner = y_train.iloc[train_index_inner], y_train.iloc[test_index_inner]\n",
    "\n",
    "\n",
    "\n",
    "    # Inner cross-validation loop for hyperparameter tuning\n",
    "    rf_model2 = RandomForestClassifier(max_depth=5, min_samples_leaf=1,min_samples_split=10,n_estimators=100,\n",
    "                                       random_state=42)\n",
    "\n",
    "    rf = rf_model2.fit(X_train_inner, y_train_inner)\n",
    "\n",
    "    yhat2 = rf.predict(X_test_inner)\n",
    "    acc2= accuracy_score(y_test_inner,yhat2)\n",
    "    actual_scores2.append(acc2)\n",
    "    # report progress\n",
    "    print('>acc=%.3f' % (acc2))\n",
    "# summarize the estimated performance of the model\n",
    "print('Accuracy: %.3f (%.3f)' % (mean(actual_scores2), std(actual_scores2)))"
   ],
   "metadata": {
    "collapsed": false,
    "ExecuteTime": {
     "start_time": "2023-05-16T23:38:47.660989Z",
     "end_time": "2023-05-16T23:38:48.903674Z"
    }
   }
  },
  {
   "cell_type": "markdown",
   "source": [
    "# Final model to test also here the best hyper parameters in the test set\n"
   ],
   "metadata": {
    "collapsed": false
   }
  },
  {
   "cell_type": "code",
   "execution_count": 76,
   "outputs": [
    {
     "name": "stdout",
     "output_type": "stream",
     "text": [
      " Accuracy: 90.00%\n",
      "Precision: 0.926\n",
      "Recall: 0.889\n",
      "F1-score: 0.892\n"
     ]
    }
   ],
   "source": [
    "clf_final = RandomForestClassifier( max_depth=5, min_samples_leaf=1,min_samples_split=10,n_estimators=100,\n",
    "                                   random_state=42)\n",
    "\n",
    "clf_final.fit(X_train, y_train)\n",
    "# Evaluate the trained classifier on the test set\n",
    "y_pred_final = clf_final.predict(X_test)\n",
    "score_total = accuracy_score(y_test, y_pred_final)\n",
    "precision = metrics.precision_score(y_test, y_pred_final, average='macro')\n",
    "recall = metrics.recall_score(y_test, y_pred_final, average='macro')\n",
    "f1_score = metrics.f1_score(y_test, y_pred_final, average='macro')\n",
    "\n",
    "print(\" Accuracy: {:.2f}%\".format(score_total * 100))\n",
    "print(f'Precision: {precision:.3f}')\n",
    "print(f'Recall: {recall:.3f}')\n",
    "print(f'F1-score: {f1_score:.3f}')"
   ],
   "metadata": {
    "collapsed": false,
    "ExecuteTime": {
     "start_time": "2023-05-17T04:05:35.411125Z",
     "end_time": "2023-05-17T04:05:36.429331Z"
    }
   }
  },
  {
   "cell_type": "code",
   "execution_count": 54,
   "outputs": [
    {
     "data": {
      "text/plain": "<Figure size 640x480 with 1 Axes>",
      "image/png": "[encoded data removed]"
     },
     "metadata": {},
     "output_type": "display_data"
    }
   ],
   "source": [
    "importances = clf_final.feature_importances_\n",
    "n = 11\n",
    "indices = importances.argsort()[::-1][:n]\n",
    "# Visualize the feature importance\n",
    "std = np.std([tree.feature_importances_ for tree in clf_final.estimators_], axis=0)\n",
    "indices = np.argsort(importances)[::-1]\n",
    "\n",
    "plt.figure()\n",
    "plt.title(\"Feature importance\")\n",
    "plt.bar(range(X_train.shape[1]), importances[indices], color=\"r\", yerr=std[indices], align=\"center\")\n",
    "plt.xticks(range(X_train.shape[1]), X_train.columns[indices], rotation=90)\n",
    "plt.xlim([-1, X_train.shape[1]])\n",
    "plt.show()\n"
   ],
   "metadata": {
    "collapsed": false,
    "ExecuteTime": {
     "start_time": "2023-05-16T23:39:35.799407Z",
     "end_time": "2023-05-16T23:39:36.187836Z"
    }
   }
  },
  {
   "cell_type": "code",
   "execution_count": 51,
   "outputs": [
    {
     "name": "stdout",
     "output_type": "stream",
     "text": [
      "              precision    recall  f1-score   support\n",
      "\n",
      "       HER2+       1.00      1.00      1.00         7\n",
      "         HR+       0.78      1.00      0.88         7\n",
      "  Triple Neg       1.00      0.67      0.80         6\n",
      "\n",
      "    accuracy                           0.90        20\n",
      "   macro avg       0.93      0.89      0.89        20\n",
      "weighted avg       0.92      0.90      0.90        20\n",
      "\n"
     ]
    }
   ],
   "source": [
    "cr = classification_report(y_test, y_pred_final)\n",
    "print(cr)"
   ],
   "metadata": {
    "collapsed": false,
    "ExecuteTime": {
     "start_time": "2023-05-16T23:39:11.854542Z",
     "end_time": "2023-05-16T23:39:11.869157Z"
    }
   }
  },
  {
   "cell_type": "code",
   "execution_count": 77,
   "outputs": [
    {
     "data": {
      "text/plain": "['rf_bio.pkl']"
     },
     "execution_count": 77,
     "metadata": {},
     "output_type": "execute_result"
    }
   ],
   "source": [
    "import joblib\n",
    "joblib.dump(clf_final, filename = 'rf_bio.pkl')"
   ],
   "metadata": {
    "collapsed": false,
    "ExecuteTime": {
     "start_time": "2023-05-17T04:05:42.134990Z",
     "end_time": "2023-05-17T04:05:42.209194Z"
    }
   }
  },
  {
   "cell_type": "code",
   "execution_count": 79,
   "outputs": [],
   "source": [
    "t = pd.read_csv('pckl_models\\\\Validation_set.csv')"
   ],
   "metadata": {
    "collapsed": false,
    "ExecuteTime": {
     "start_time": "2023-05-17T04:10:59.670025Z",
     "end_time": "2023-05-17T04:10:59.717781Z"
    }
   }
  },
  {
   "cell_type": "code",
   "execution_count": 80,
   "outputs": [
    {
     "name": "stdout",
     "output_type": "stream",
     "text": [
      "   Unnamed: 0  196908262-196937230  69274433-70345552  19049822-20716660  \\\n",
      "0     Array.1                    0                  1                  0   \n",
      "1    Array.61                   -1                  0                  0   \n",
      "2    Array.70                    0                  0                  1   \n",
      "3    Array.14                    0                  1                  0   \n",
      "4    Array.91                    0                  0                  0   \n",
      "5    Array.58                    0                  0                  0   \n",
      "6   Array.140                    1                  0                 -1   \n",
      "7    Array.20                    0                  0                  0   \n",
      "8   Array.133                    1                  0                  1   \n",
      "9    Array.77                    0                  0                  0   \n",
      "10  Array.131                   -1                  0                  0   \n",
      "11   Array.84                   -1                  0                  1   \n",
      "12   Array.44                    1                  0                  0   \n",
      "13   Array.41                   -1                 -1                  1   \n",
      "14   Array.29                    0                  0                  0   \n",
      "15  Array.150                   -1                 -1                  0   \n",
      "16  Array.151                    1                  0                  0   \n",
      "17  Array.132                    0                 -1                  0   \n",
      "18   Array.32                    0                  0                  0   \n",
      "19   Array.11                    0                  0                  1   \n",
      "20  Array.156                    1                  0                  1   \n",
      "21   Array.80                   -1                 -1                  0   \n",
      "22    Array.9                    0                 -1                  0   \n",
      "23    Array.3                    0                  0                  0   \n",
      "24  Array.136                    0                 -1                  0   \n",
      "25   Array.46                    0                  0                  0   \n",
      "26  Array.109                    0                  0                  0   \n",
      "27  Array.103                    0                  0                  0   \n",
      "28   Array.97                    0                  0                  0   \n",
      "29   Array.40                    0                  0                  0   \n",
      "30  Array.147                    0                 -1                  0   \n",
      "31  Array.161                    1                  0                  1   \n",
      "32  Array.127                    1                  0                  1   \n",
      "33  Array.119                    0                 -1                  0   \n",
      "34  Array.157                    1                  0                  0   \n",
      "35   Array.54                    1                  0                  0   \n",
      "36  Array.115                    0                  0                  0   \n",
      "37  Array.121                    0                  0                  1   \n",
      "38  Array.122                   -1                  1                  1   \n",
      "39  Array.158                    2                  0                  0   \n",
      "40   Array.87                   -1                 -1                  1   \n",
      "41   Array.28                    1                  1                  1   \n",
      "42   Array.45                    0                 -1                 -1   \n",
      "43  Array.155                    1                  0                  0   \n",
      "44   Array.12                    1                  1                  0   \n",
      "45   Array.74                    0                 -1                  1   \n",
      "46   Array.26                    0                  0                 -1   \n",
      "47  Array.120                   -1                  0                  0   \n",
      "48  Array.108                    0                  1                  0   \n",
      "49   Array.81                    0                  0                  0   \n",
      "50  Array.126                    1                 -1                  1   \n",
      "51   Array.92                    1                  0                  0   \n",
      "52  Array.160                    0                  0                  0   \n",
      "53   Array.66                    0                  0                 -1   \n",
      "54   Array.83                   -1                  0                  0   \n",
      "55  Array.128                    0                 -1                  0   \n",
      "56   Array.63                   -1                  0                  0   \n",
      "\n",
      "    131304839-132036965  70574871-71644041  97852156-98629015  \\\n",
      "0                    -1                  1                  1   \n",
      "1                     1                  0                  0   \n",
      "2                     1                  0                  0   \n",
      "3                     0                  0                  0   \n",
      "4                     0                  0                  0   \n",
      "5                     2                  0                  0   \n",
      "6                     0                  0                  0   \n",
      "7                     0                  0                  0   \n",
      "8                     1                  0                  1   \n",
      "9                    -1                  0                  0   \n",
      "10                    0                  0                  0   \n",
      "11                    0                  0                  0   \n",
      "12                    0                  0                  0   \n",
      "13                    1                  1                  1   \n",
      "14                    0                  0                  0   \n",
      "15                   -1                  1                  2   \n",
      "16                    0                  0                  0   \n",
      "17                   -1                  0                  0   \n",
      "18                    0                  0                  0   \n",
      "19                   -1                  0                  0   \n",
      "20                    1                  2                  0   \n",
      "21                    0                  0                  0   \n",
      "22                    0                  0                  0   \n",
      "23                    0                  0                  0   \n",
      "24                   -1                  1                  1   \n",
      "25                    0                  0                  0   \n",
      "26                    0                  0                  0   \n",
      "27                    0                  0                  0   \n",
      "28                   -1                  0                  0   \n",
      "29                    0                  0                  0   \n",
      "30                    1                 -1                 -1   \n",
      "31                    1                  0                  0   \n",
      "32                    0                  0                  0   \n",
      "33                   -1                  0                  0   \n",
      "34                    0                  0                  0   \n",
      "35                    0                  0                  0   \n",
      "36                    1                  1                  1   \n",
      "37                   -1                  0                  0   \n",
      "38                    1                  2                 -1   \n",
      "39                    1                  1                  1   \n",
      "40                    1                  0                  0   \n",
      "41                    1                  1                  1   \n",
      "42                   -1                  0                  0   \n",
      "43                    0                  0                  0   \n",
      "44                    0                  0                  0   \n",
      "45                   -1                  0                  0   \n",
      "46                   -1                  0                  0   \n",
      "47                    0                  0                  0   \n",
      "48                    0                  0                  0   \n",
      "49                    0                  1                 -1   \n",
      "50                    0                  1                  0   \n",
      "51                    0                  0                  0   \n",
      "52                    0                  0                  0   \n",
      "53                   -1                  0                  0   \n",
      "54                    0                  0                  0   \n",
      "55                    0                  0                  0   \n",
      "56                    0                  0                  0   \n",
      "\n",
      "    67314736-68371045  35076296-35282086  41062669-41447005  194755-763411  \n",
      "0                  -1                  0                  0              0  \n",
      "1                   0                  2                  0              0  \n",
      "2                   1                  2                  1              0  \n",
      "3                  -1                  2                 -1              0  \n",
      "4                   0                  0                  0              0  \n",
      "5                   1                  1                  0              1  \n",
      "6                  -1                 -1                 -1              0  \n",
      "7                  -1                  0                  0              0  \n",
      "8                   1                  1                  1              1  \n",
      "9                   0                  2                  0              1  \n",
      "10                  0                  2                 -1              0  \n",
      "11                  0                  0                  0              0  \n",
      "12                  0                 -1                 -1              0  \n",
      "13                  0                  0                 -1              1  \n",
      "14                  0                  0                  0              0  \n",
      "15                  0                  2                 -1              0  \n",
      "16                 -1                  0                  0              0  \n",
      "17                 -1                  0                  0              0  \n",
      "18                 -1                  0                  0              0  \n",
      "19                  0                  2                  0              0  \n",
      "20                  1                  0                  0              1  \n",
      "21                  0                  2                 -1              0  \n",
      "22                  1                  1                  0              0  \n",
      "23                 -1                  0                  0              1  \n",
      "24                  0                  0                  0              0  \n",
      "25                  0                  2                  0              0  \n",
      "26                  0                  2                 -1              0  \n",
      "27                  0                  0                  0              0  \n",
      "28                  0                  0                  0              0  \n",
      "29                 -1                  0                  0              0  \n",
      "30                  0                  0                  0              0  \n",
      "31                  1                  0                  0              1  \n",
      "32                  1                  0                  0              1  \n",
      "33                 -1                 -1                 -1             -1  \n",
      "34                  0                  0                  0              0  \n",
      "35                 -1                  2                  1              1  \n",
      "36                  0                  0                  0              0  \n",
      "37                  0                  2                  1              1  \n",
      "38                  1                  2                 -1              1  \n",
      "39                  1                  0                  0              0  \n",
      "40                  0                  2                 -1              1  \n",
      "41                  1                  2                 -1              1  \n",
      "42                 -1                  1                  1             -1  \n",
      "43                  0                 -1                 -1              0  \n",
      "44                  1                  2                  1              1  \n",
      "45                 -1                  2                 -1              1  \n",
      "46                  0                  0                  0              0  \n",
      "47                 -1                  2                 -1              1  \n",
      "48                 -1                  0                  0              1  \n",
      "49                  0                  2                 -1              0  \n",
      "50                  0                  1                  1              0  \n",
      "51                 -1                  0                  0              0  \n",
      "52                  0                  0                  0              0  \n",
      "53                  0                 -1                 -1             -1  \n",
      "54                  0                  0                 -1              0  \n",
      "55                 -1                  2                 -1              0  \n",
      "56                  0                  0                  0              0  \n"
     ]
    }
   ],
   "source": [
    "print(t)\n",
    "print"
   ],
   "metadata": {
    "collapsed": false,
    "ExecuteTime": {
     "start_time": "2023-05-17T04:11:05.991996Z",
     "end_time": "2023-05-17T04:11:06.026990Z"
    }
   }
  },
  {
   "cell_type": "code",
   "execution_count": 84,
   "outputs": [
    {
     "name": "stdout",
     "output_type": "stream",
     "text": [
      "    69274433-70345552  196908262-196937230  19049822-20716660  \\\n",
      "0                  -1                    0                  1   \n",
      "1                  -1                    1                  0   \n",
      "2                  -1                   -1                  0   \n",
      "3                   0                    1                  0   \n",
      "4                   0                    0                  0   \n",
      "..                ...                  ...                ...   \n",
      "75                 -1                    0                  0   \n",
      "76                  0                    0                  0   \n",
      "77                  0                    0                  1   \n",
      "78                  0                    1                  1   \n",
      "79                  0                    0                  0   \n",
      "\n",
      "    131304839-132036965  70574871-71644041  97852156-98629015  \\\n",
      "0                    -1                 -1                 -1   \n",
      "1                     0                  0                  0   \n",
      "2                     0                  0                  0   \n",
      "3                    -1                  0                  0   \n",
      "4                     0                  1                 -1   \n",
      "..                  ...                ...                ...   \n",
      "75                    0                  0                  0   \n",
      "76                    0                  0                  0   \n",
      "77                    0                  0                  0   \n",
      "78                    1                  0                  0   \n",
      "79                    0                  0                  0   \n",
      "\n",
      "    67314736-68371045  35076296-35282086  41062669-41447005  194755-763411  \n",
      "0                   0                  1                  0              1  \n",
      "1                   0                  0                  0             -1  \n",
      "2                   0                  2                 -1              0  \n",
      "3                  -1                 -1                 -1              0  \n",
      "4                   0                  0                 -1              1  \n",
      "..                ...                ...                ...            ...  \n",
      "75                 -1                  2                  0              0  \n",
      "76                 -1                  2                 -1              0  \n",
      "77                  0                  0                  0              1  \n",
      "78                  1                  0                  0              0  \n",
      "79                 -1                  0                  0              0  \n",
      "\n",
      "[80 rows x 10 columns]\n"
     ]
    }
   ],
   "source": [
    "p = pd.read_csv('testarw.csv')\n",
    "df = p.drop(p.filter(like='Unnamed').columns, axis=1)\n",
    "print(df)"
   ],
   "metadata": {
    "collapsed": false,
    "ExecuteTime": {
     "start_time": "2023-05-17T04:14:33.717879Z",
     "end_time": "2023-05-17T04:14:33.772517Z"
    }
   }
  },
  {
   "cell_type": "code",
   "execution_count": 83,
   "outputs": [
    {
     "name": "stdout",
     "output_type": "stream",
     "text": [
      "           69274433-70345552  196908262-196937230  19049822-20716660  \\\n",
      "Array.88                  -1                    0                  1   \n",
      "Array.47                  -1                    1                  0   \n",
      "Array.110                 -1                   -1                  0   \n",
      "Array.56                   0                    1                  0   \n",
      "Array.82                   0                    0                  0   \n",
      "...                      ...                  ...                ...   \n",
      "Array.68                  -1                    0                  0   \n",
      "Array.139                  0                    0                  0   \n",
      "Array.118                  0                    0                  1   \n",
      "Array.30                   0                    1                  1   \n",
      "Array.141                  0                    0                  0   \n",
      "\n",
      "           131304839-132036965  70574871-71644041  97852156-98629015  \\\n",
      "Array.88                    -1                 -1                 -1   \n",
      "Array.47                     0                  0                  0   \n",
      "Array.110                    0                  0                  0   \n",
      "Array.56                    -1                  0                  0   \n",
      "Array.82                     0                  1                 -1   \n",
      "...                        ...                ...                ...   \n",
      "Array.68                     0                  0                  0   \n",
      "Array.139                    0                  0                  0   \n",
      "Array.118                    0                  0                  0   \n",
      "Array.30                     1                  0                  0   \n",
      "Array.141                    0                  0                  0   \n",
      "\n",
      "           67314736-68371045  35076296-35282086  41062669-41447005  \\\n",
      "Array.88                   0                  1                  0   \n",
      "Array.47                   0                  0                  0   \n",
      "Array.110                  0                  2                 -1   \n",
      "Array.56                  -1                 -1                 -1   \n",
      "Array.82                   0                  0                 -1   \n",
      "...                      ...                ...                ...   \n",
      "Array.68                  -1                  2                  0   \n",
      "Array.139                 -1                  2                 -1   \n",
      "Array.118                  0                  0                  0   \n",
      "Array.30                   1                  0                  0   \n",
      "Array.141                 -1                  0                  0   \n",
      "\n",
      "           194755-763411  \n",
      "Array.88               1  \n",
      "Array.47              -1  \n",
      "Array.110              0  \n",
      "Array.56               0  \n",
      "Array.82               1  \n",
      "...                  ...  \n",
      "Array.68               0  \n",
      "Array.139              0  \n",
      "Array.118              1  \n",
      "Array.30               0  \n",
      "Array.141              0  \n",
      "\n",
      "[80 rows x 10 columns]\n"
     ]
    }
   ],
   "source": [
    "print(X_train)"
   ],
   "metadata": {
    "collapsed": false,
    "ExecuteTime": {
     "start_time": "2023-05-17T04:13:27.139176Z",
     "end_time": "2023-05-17T04:13:27.169191Z"
    }
   }
  },
  {
   "cell_type": "code",
   "execution_count": null,
   "outputs": [],
   "source": [],
   "metadata": {
    "collapsed": false
   }
  }
 ],
 "metadata": {
  "kernelspec": {
   "display_name": "Python 3",
   "language": "python",
   "name": "python3"
  },
  "language_info": {
   "codemirror_mode": {
    "name": "ipython",
    "version": 2
   },
   "file_extension": ".py",
   "mimetype": "text/x-python",
   "name": "python",
   "nbconvert_exporter": "python",
   "pygments_lexer": "ipython2",
   "version": "2.7.6"
  }
 },
 "nbformat": 4,
 "nbformat_minor": 0
}
