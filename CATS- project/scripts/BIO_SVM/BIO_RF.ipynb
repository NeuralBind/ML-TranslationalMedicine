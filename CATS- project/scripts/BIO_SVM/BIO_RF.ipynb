{
 "cells": [
  {
   "cell_type": "code",
   "execution_count": 35,
   "metadata": {
    "ExecuteTime": {
     "start_time": "2023-05-17T00:40:58.388191Z",
     "end_time": "2023-05-17T00:40:58.425104Z"
    },
    "collapsed": true
   },
   "outputs": [],
   "source": [
    "import numpy as np\n",
    "import pandas as pd\n",
    "from sklearn.model_selection import StratifiedKFold, GridSearchCV\n",
    "from sklearn.ensemble import RandomForestClassifier\n",
    "from sklearn.metrics import accuracy_score\n",
    "from train_set import Training_set\n",
    "import matplotlib.pyplot as plt\n",
    "from sklearn.model_selection import train_test_split\n",
    "from sklearn import metrics\n",
    "from sklearn.metrics import  classification_report\n",
    "from numpy import mean, std\n",
    "from sklearn.svm import SVC"
   ]
  },
  {
   "cell_type": "code",
   "execution_count": 36,
   "metadata": {
    "ExecuteTime": {
     "start_time": "2023-05-17T00:41:01.171268Z",
     "end_time": "2023-05-17T00:41:01.204299Z"
    },
    "collapsed": false
   },
   "outputs": [
    {
     "name": "stdout",
     "output_type": "stream",
     "text": [
      "           69274433-70345552  196908262-196937230  19049822-20716660  \\\n",
      "Array.129                 -1                    0                  0   \n",
      "Array.34                   0                    0                  0   \n",
      "Array.67                   0                   -1                  0   \n",
      "Array.24                  -1                    0                  0   \n",
      "Array.22                   0                    0                  1   \n",
      "...                      ...                  ...                ...   \n",
      "Array.10                   0                    0                  0   \n",
      "Array.123                  0                    1                  1   \n",
      "Array.100                 -1                    0                  0   \n",
      "Array.134                  0                    1                  1   \n",
      "Array.130                 -1                    0                  0   \n",
      "\n",
      "           131304839-132036965  70574871-71644041  97852156-98629015  \\\n",
      "Array.129                    1                  1                  0   \n",
      "Array.34                    -1                  2                  0   \n",
      "Array.67                    -1                  0                  0   \n",
      "Array.24                    -1                 -1                 -1   \n",
      "Array.22                    -1                  0                  0   \n",
      "...                        ...                ...                ...   \n",
      "Array.10                     1                  0                  0   \n",
      "Array.123                   -1                  2                  1   \n",
      "Array.100                    0                  0                  0   \n",
      "Array.134                   -1                  1                  1   \n",
      "Array.130                    1                  0                  0   \n",
      "\n",
      "           67314736-68371045  35076296-35282086  41062669-41447005  \\\n",
      "Array.129                  1                  2                 -1   \n",
      "Array.34                   0                  0                  0   \n",
      "Array.67                  -1                 -1                  0   \n",
      "Array.24                   0                  0                  1   \n",
      "Array.22                  -1                  0                  0   \n",
      "...                      ...                ...                ...   \n",
      "Array.10                   0                  2                 -1   \n",
      "Array.123                 -1                  0                  0   \n",
      "Array.100                  0                  0                  0   \n",
      "Array.134                 -1                  1                  1   \n",
      "Array.130                  0                  2                 -1   \n",
      "\n",
      "           194755-763411    Subgroup  \n",
      "Array.129              0       HER2+  \n",
      "Array.34               0         HR+  \n",
      "Array.67               0         HR+  \n",
      "Array.24               0  Triple Neg  \n",
      "Array.22               0  Triple Neg  \n",
      "...                  ...         ...  \n",
      "Array.10               0       HER2+  \n",
      "Array.123              0         HR+  \n",
      "Array.100              0         HR+  \n",
      "Array.134              1         HR+  \n",
      "Array.130             -1       HER2+  \n",
      "\n",
      "[100 rows x 11 columns]\n",
      "           69274433-70345552  196908262-196937230  19049822-20716660  \\\n",
      "Array.129                 -1                    0                  0   \n",
      "Array.34                   0                    0                  0   \n",
      "Array.67                   0                   -1                  0   \n",
      "Array.24                  -1                    0                  0   \n",
      "Array.22                   0                    0                  1   \n",
      "...                      ...                  ...                ...   \n",
      "Array.10                   0                    0                  0   \n",
      "Array.123                  0                    1                  1   \n",
      "Array.100                 -1                    0                  0   \n",
      "Array.134                  0                    1                  1   \n",
      "Array.130                 -1                    0                  0   \n",
      "\n",
      "           131304839-132036965  70574871-71644041  97852156-98629015  \\\n",
      "Array.129                    1                  1                  0   \n",
      "Array.34                    -1                  2                  0   \n",
      "Array.67                    -1                  0                  0   \n",
      "Array.24                    -1                 -1                 -1   \n",
      "Array.22                    -1                  0                  0   \n",
      "...                        ...                ...                ...   \n",
      "Array.10                     1                  0                  0   \n",
      "Array.123                   -1                  2                  1   \n",
      "Array.100                    0                  0                  0   \n",
      "Array.134                   -1                  1                  1   \n",
      "Array.130                    1                  0                  0   \n",
      "\n",
      "           67314736-68371045  35076296-35282086  41062669-41447005  \\\n",
      "Array.129                  1                  2                 -1   \n",
      "Array.34                   0                  0                  0   \n",
      "Array.67                  -1                 -1                  0   \n",
      "Array.24                   0                  0                  1   \n",
      "Array.22                  -1                  0                  0   \n",
      "...                      ...                ...                ...   \n",
      "Array.10                   0                  2                 -1   \n",
      "Array.123                 -1                  0                  0   \n",
      "Array.100                  0                  0                  0   \n",
      "Array.134                 -1                  1                  1   \n",
      "Array.130                  0                  2                 -1   \n",
      "\n",
      "           194755-763411  \n",
      "Array.129              0  \n",
      "Array.34               0  \n",
      "Array.67               0  \n",
      "Array.24               0  \n",
      "Array.22               0  \n",
      "...                  ...  \n",
      "Array.10               0  \n",
      "Array.123              0  \n",
      "Array.100              0  \n",
      "Array.134              1  \n",
      "Array.130             -1  \n",
      "\n",
      "[100 rows x 10 columns]\n"
     ]
    }
   ],
   "source": [
    "bio_features = pd.read_csv(\"bio_data.csv\", index_col= 0)\n",
    "#chi_features = pd.read_csv('../../../Chi_data.csv',index_col=0)\n",
    "#rfe_features = pd.read_csv('../../RFE_FEATURES.csv',index_col=0)\n",
    "X = bio_features\n",
    "#Y has the last col with labels\n",
    "y = Training_set.iloc[:, -1]\n",
    "# split the dataset to train and test, the 2nd is for the non feature selection\n",
    "Training_data = pd.merge(X, y, left_index=True, right_index=True)\n",
    "print(Training_data)\n",
    "\n",
    "X = Training_data.iloc[:, :-1]\n",
    "#Y has the last col with labels\n",
    "y = Training_data.iloc[:, -1]\n",
    "print(X)\n",
    "X_train, X_test, y_train, y_test = train_test_split(X, y, test_size=0.2, random_state=42)"
   ]
  },
  {
   "cell_type": "markdown",
   "metadata": {
    "collapsed": false
   },
   "source": [
    "# NESTED CV"
   ]
  },
  {
   "cell_type": "code",
   "execution_count": 37,
   "metadata": {
    "ExecuteTime": {
     "start_time": "2023-05-17T00:41:03.755146Z",
     "end_time": "2023-05-17T00:41:09.407204Z"
    },
    "collapsed": false
   },
   "outputs": [
    {
     "name": "stdout",
     "output_type": "stream",
     "text": [
      ">acc=0.875, est=0.937, cfg={'C': 0.5, 'decision_function_shape': 'ovo', 'gamma': 'scale', 'kernel': 'linear'}\n",
      ">acc=0.938, est=0.906, cfg={'C': 0.1, 'decision_function_shape': 'ovo', 'gamma': 'scale', 'kernel': 'linear'}\n",
      ">acc=0.938, est=0.922, cfg={'C': 0.1, 'decision_function_shape': 'ovo', 'gamma': 'scale', 'kernel': 'linear'}\n",
      ">acc=0.875, est=0.922, cfg={'C': 0.1, 'decision_function_shape': 'ovo', 'gamma': 'scale', 'kernel': 'linear'}\n",
      ">acc=1.000, est=0.938, cfg={'C': 0.3, 'decision_function_shape': 'ovo', 'gamma': 'scale', 'kernel': 'linear'}\n",
      "Accuracy: 0.925 (0.047)\n"
     ]
    }
   ],
   "source": [
    "# Split the generated data into training and testing sets\n",
    "skf_outer = StratifiedKFold(n_splits=5, shuffle=True, random_state=42)\n",
    "actual_scores = []\n",
    "\n",
    "# Define the parameter grid for the random forest classifier\n",
    "param_grid = {\n",
    "    'C': [0.1,0.3,0.5,1],\n",
    "    'kernel': ['linear', 'rbf'],\n",
    "    'decision_function_shape': ['ovo'],\n",
    "    'gamma': ['scale','auto',0.1,0.5,1,5]\n",
    "}\n",
    "\n",
    "for train_index_inner, test_index_inner in skf_outer.split(X_train, y_train):\n",
    "    X_train_inner, X_test_inner = X_train.iloc[train_index_inner], X_train.iloc[test_index_inner]\n",
    "    y_train_inner, y_test_inner = y_train.iloc[train_index_inner], y_train.iloc[test_index_inner]\n",
    "\n",
    "    # parameter tuning for the random forest classifier using GridSearchCV\n",
    "    clf = SVC()\n",
    "\n",
    "    # Inner cross-validation loop for hyperparameter tuning\n",
    "    skf_inner = StratifiedKFold(n_splits=5, shuffle=True, random_state=42)\n",
    "    grid_search = GridSearchCV(clf, param_grid, scoring='accuracy', cv=skf_inner)\n",
    "\n",
    "    grid_search.fit(X_train_inner, y_train_inner)\n",
    "    best_model = grid_search.best_estimator_\n",
    "    yhat = best_model.predict(X_test_inner)\n",
    "    acc= accuracy_score(y_test_inner,yhat)\n",
    "    actual_scores.append(acc)\n",
    "    # report progress\n",
    "    print('>acc=%.3f, est=%.3f, cfg=%s' % (acc, grid_search.best_score_, grid_search.best_params_))\n",
    "# summarize the estimated performance of the model\n",
    "print('Accuracy: %.3f (%.3f)' % (mean(actual_scores), std(actual_scores)))"
   ]
  },
  {
   "cell_type": "code",
   "execution_count": 41,
   "metadata": {
    "ExecuteTime": {
     "start_time": "2023-05-17T00:41:46.249240Z",
     "end_time": "2023-05-17T00:41:46.289929Z"
    },
    "collapsed": false
   },
   "outputs": [
    {
     "name": "stdout",
     "output_type": "stream",
     "text": [
      ">acc=0.875\n",
      ">acc=0.938\n",
      ">acc=0.938\n",
      ">acc=0.875\n",
      ">acc=1.000\n",
      "Accuracy: 0.925 (0.047)\n"
     ]
    }
   ],
   "source": [
    "# Split the generated data into training and testing sets\n",
    "skf_outer2 = StratifiedKFold(n_splits=5, shuffle=True, random_state=42)\n",
    "actual_scores2 = []\n",
    "\n",
    "\n",
    "for train_index_inner, test_index_inner in skf_outer2.split(X_train, y_train):\n",
    "    X_train_inner, X_test_inner = X_train.iloc[train_index_inner], X_train.iloc[test_index_inner]\n",
    "    y_train_inner, y_test_inner = y_train.iloc[train_index_inner], y_train.iloc[test_index_inner]\n",
    "\n",
    "\n",
    "\n",
    "    # Inner cross-validation loop for hyperparameter tuning\n",
    "\n",
    "    SV = SVC(C=  0.1, decision_function_shape = 'ovo', gamma = 'scale', kernel = 'linear')\n",
    "\n",
    "    clf2 = SV.fit(X_train_inner, y_train_inner)\n",
    "\n",
    "    yhat2 = clf2.predict(X_test_inner)\n",
    "    acc2= accuracy_score(y_test_inner,yhat2)\n",
    "    actual_scores2.append(acc2)\n",
    "    # report progress\n",
    "    print('>acc=%.3f' % (acc2))\n",
    "# summarize the estimated performance of the model\n",
    "print('Accuracy: %.3f (%.3f)' % (mean(actual_scores2), std(actual_scores2)))"
   ]
  },
  {
   "cell_type": "markdown",
   "source": [
    "1o 0.912\n",
    "2o 0.925\n",
    "3o 0.925"
   ],
   "metadata": {
    "collapsed": false
   }
  },
  {
   "cell_type": "code",
   "execution_count": 44,
   "metadata": {
    "ExecuteTime": {
     "start_time": "2023-05-17T00:42:37.004499Z",
     "end_time": "2023-05-17T00:42:37.049828Z"
    },
    "collapsed": false
   },
   "outputs": [
    {
     "name": "stdout",
     "output_type": "stream",
     "text": [
      " Accuracy: 90.00%\n",
      "Precision: 0.926\n",
      "Recall: 0.889\n",
      "F1-score: 0.892\n"
     ]
    }
   ],
   "source": [
    "SVM_final = SVC(C=  0.1, decision_function_shape = 'ovo', gamma = 'scale', kernel = 'linear')\n",
    "\n",
    "SVM_final.fit(X_train, y_train)\n",
    "# Evaluate the trained classifier on the test set\n",
    "y_pred_ = SVM_final.predict(X_test)\n",
    "score_total = accuracy_score(y_test, y_pred_)\n",
    "precision = metrics.precision_score(y_test, y_pred_, average='macro')\n",
    "recall = metrics.recall_score(y_test, y_pred_, average='macro')\n",
    "f1_score = metrics.f1_score(y_test, y_pred_, average='macro')\n",
    "\n",
    "print(\" Accuracy: {:.2f}%\".format(score_total * 100))\n",
    "print(f'Precision: {precision:.3f}')\n",
    "print(f'Recall: {recall:.3f}')\n",
    "print(f'F1-score: {f1_score:.3f}')"
   ]
  },
  {
   "cell_type": "code",
   "execution_count": 47,
   "metadata": {
    "ExecuteTime": {
     "start_time": "2023-05-17T00:45:08.184357Z",
     "end_time": "2023-05-17T00:45:08.215219Z"
    },
    "collapsed": false
   },
   "outputs": [
    {
     "name": "stdout",
     "output_type": "stream",
     "text": [
      "              precision    recall  f1-score   support\n",
      "\n",
      "       HER2+       1.00      1.00      1.00         7\n",
      "         HR+       0.78      1.00      0.88         7\n",
      "  Triple Neg       1.00      0.67      0.80         6\n",
      "\n",
      "    accuracy                           0.90        20\n",
      "   macro avg       0.93      0.89      0.89        20\n",
      "weighted avg       0.92      0.90      0.90        20\n",
      "\n"
     ]
    }
   ],
   "source": [
    "cr = classification_report(y_test, y_pred_)\n",
    "print(cr)"
   ]
  },
  {
   "cell_type": "code",
   "execution_count": 30,
   "metadata": {
    "ExecuteTime": {
     "start_time": "2023-05-17T00:37:08.618706Z",
     "end_time": "2023-05-17T00:37:08.638762Z"
    },
    "collapsed": false
   },
   "outputs": [],
   "source": [
    "import pickle\n",
    "pickle.dump(SVM_final, open('SVM_bio.pkl', 'wb'))"
   ]
  },
  {
   "cell_type": "code",
   "execution_count": null,
   "metadata": {
    "ExecuteTime": {
     "end_time": "2023-05-16T05:58:51.690697Z",
     "start_time": "2023-05-16T05:58:51.314016Z"
    },
    "collapsed": false
   },
   "outputs": [],
   "source": []
  },
  {
   "cell_type": "code",
   "execution_count": null,
   "metadata": {
    "ExecuteTime": {
     "end_time": "2023-05-16T06:00:54.173874Z",
     "start_time": "2023-05-16T06:00:54.165879Z"
    },
    "collapsed": false
   },
   "outputs": [],
   "source": []
  },
  {
   "cell_type": "code",
   "execution_count": null,
   "metadata": {
    "collapsed": false
   },
   "outputs": [],
   "source": []
  }
 ],
 "metadata": {
  "kernelspec": {
   "display_name": "Python 3",
   "language": "python",
   "name": "python3"
  },
  "language_info": {
   "codemirror_mode": {
    "name": "ipython",
    "version": 3
   },
   "file_extension": ".py",
   "mimetype": "text/x-python",
   "name": "python",
   "nbconvert_exporter": "python",
   "pygments_lexer": "ipython3",
   "version": "3.9.16"
  }
 },
 "nbformat": 4,
 "nbformat_minor": 0
}
