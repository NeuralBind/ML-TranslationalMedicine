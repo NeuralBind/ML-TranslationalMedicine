{
 "cells": [
  {
   "cell_type": "code",
   "execution_count": 1,
   "metadata": {
    "collapsed": true,
    "ExecuteTime": {
     "start_time": "2023-05-17T00:04:25.584992Z",
     "end_time": "2023-05-17T00:04:26.305465Z"
    }
   },
   "outputs": [],
   "source": [
    "from sklearn.model_selection import StratifiedKFold, GridSearchCV\n",
    "from sklearn.metrics import accuracy_score\n",
    "from train_set import Training_set\n",
    "from sklearn.neighbors import KNeighborsClassifier\n",
    "from sklearn.model_selection import train_test_split\n",
    "from sklearn.preprocessing import StandardScaler\n",
    "from numpy import mean\n",
    "from numpy import std\n",
    "import pandas as pd"
   ]
  },
  {
   "cell_type": "code",
   "execution_count": 2,
   "outputs": [
    {
     "name": "stdout",
     "output_type": "stream",
     "text": [
      "           35076296-35282086  41062669-41447005  42161364-42296514  \\\n",
      "Array.129                  2                 -1                 -1   \n",
      "Array.34                   0                  0                  0   \n",
      "Array.67                  -1                  0                  0   \n",
      "Array.24                   0                  1                  1   \n",
      "Array.22                   0                  0                  0   \n",
      "...                      ...                ...                ...   \n",
      "Array.10                   2                 -1                 -1   \n",
      "Array.123                  0                  0                  0   \n",
      "Array.100                  0                  0                  0   \n",
      "Array.134                  1                  1                  1   \n",
      "Array.130                  2                 -1                 -1   \n",
      "\n",
      "           85450052-85962613  41458670-41494331  84542006-85443011  \\\n",
      "Array.129                  0                 -1                  0   \n",
      "Array.34                   1                  0                  1   \n",
      "Array.67                   0                  0                  0   \n",
      "Array.24                   0                  1                  0   \n",
      "Array.22                   0                  0                  0   \n",
      "...                      ...                ...                ...   \n",
      "Array.10                   0                  0                  0   \n",
      "Array.123                  1                  0                  1   \n",
      "Array.100                  0                  0                  0   \n",
      "Array.134                  1                  1                  1   \n",
      "Array.130                  0                 -1                  0   \n",
      "\n",
      "           42301553-42639030  43036086-43085236  42648686-42873571  \\\n",
      "Array.129                 -1                 -1                 -1   \n",
      "Array.34                   0                  0                  0   \n",
      "Array.67                   0                  0                  0   \n",
      "Array.24                   1                  1                  1   \n",
      "Array.22                   0                  0                  0   \n",
      "...                      ...                ...                ...   \n",
      "Array.10                  -1                 -1                 -1   \n",
      "Array.123                  0                  0                  0   \n",
      "Array.100                  0                  0                  0   \n",
      "Array.134                  1                  1                  1   \n",
      "Array.130                 -1                 -1                 -1   \n",
      "\n",
      "           39280577-40847517  ...  68785515-68850823  106401543-108269233  \\\n",
      "Array.129                 -1  ...                 -1                    1   \n",
      "Array.34                   0  ...                  0                   -1   \n",
      "Array.67                  -1  ...                  0                   -1   \n",
      "Array.24                   1  ...                 -1                   -1   \n",
      "Array.22                   0  ...                  0                   -1   \n",
      "...                      ...  ...                ...                  ...   \n",
      "Array.10                  -1  ...                  0                   -1   \n",
      "Array.123                  0  ...                  0                   -1   \n",
      "Array.100                  0  ...                  0                    0   \n",
      "Array.134                  1  ...                  0                   -1   \n",
      "Array.130                 -1  ...                 -1                    0   \n",
      "\n",
      "           108294479-109435745  108294479-109435745.1  48882141-49169293  \\\n",
      "Array.129                    1                      1                  1   \n",
      "Array.34                    -1                     -1                  0   \n",
      "Array.67                    -1                     -1                 -1   \n",
      "Array.24                    -1                     -1                  1   \n",
      "Array.22                    -1                     -1                  0   \n",
      "...                        ...                    ...                ...   \n",
      "Array.10                    -1                     -1                 -1   \n",
      "Array.123                   -1                     -1                  0   \n",
      "Array.100                    0                      0                  0   \n",
      "Array.134                   -1                     -1                  1   \n",
      "Array.130                    0                      0                  0   \n",
      "\n",
      "           196908262-196937230  69315717-70369674  66954549-67332062  \\\n",
      "Array.129                    0                  1                  1   \n",
      "Array.34                     0                 -1                  0   \n",
      "Array.67                    -1                  0                  0   \n",
      "Array.24                     0                 -1                 -1   \n",
      "Array.22                     0                  0                  0   \n",
      "...                        ...                ...                ...   \n",
      "Array.10                     0                  0                  0   \n",
      "Array.123                    1                  2                  2   \n",
      "Array.100                    0                  0                  0   \n",
      "Array.134                    1                  1                  1   \n",
      "Array.130                    0                  0                  0   \n",
      "\n",
      "           139119957-139765820    Subgroup  \n",
      "Array.129                    1       HER2+  \n",
      "Array.34                    -1         HR+  \n",
      "Array.67                    -1         HR+  \n",
      "Array.24                    -1  Triple Neg  \n",
      "Array.22                    -1  Triple Neg  \n",
      "...                        ...         ...  \n",
      "Array.10                    -1       HER2+  \n",
      "Array.123                   -1         HR+  \n",
      "Array.100                    0         HR+  \n",
      "Array.134                   -1         HR+  \n",
      "Array.130                    1       HER2+  \n",
      "\n",
      "[100 rows x 176 columns]\n"
     ]
    }
   ],
   "source": [
    "chi = pd.read_csv(\"Chi_data.csv\", index_col= 0)\n",
    "X = chi\n",
    "#Y has the last col with labels\n",
    "y = Training_set.iloc[:, -1]\n",
    "# split the dataset to train and test, the 2nd is for the non feature selection\n",
    "Training_data = pd.merge(X, y, left_index=True, right_index=True)\n",
    "print(Training_data)\n",
    "\n",
    "X = Training_data.iloc[:, :-1]\n",
    "#Y has the last col with labels\n",
    "y = Training_data.iloc[:, -1]\n",
    "\n",
    "X_train, X_test, y_train, y_test = train_test_split(X, y, test_size=0.2, random_state=42)"
   ],
   "metadata": {
    "collapsed": false,
    "ExecuteTime": {
     "start_time": "2023-05-17T00:04:26.311985Z",
     "end_time": "2023-05-17T00:04:26.372512Z"
    }
   }
  },
  {
   "cell_type": "code",
   "execution_count": 3,
   "outputs": [],
   "source": [
    "# Normalize the features\n",
    "scaler = StandardScaler()\n",
    "X_train_norm = scaler.fit_transform(X_train)\n",
    "X_test_norm = scaler.transform(X_test)"
   ],
   "metadata": {
    "collapsed": false,
    "ExecuteTime": {
     "start_time": "2023-05-17T00:04:26.375523Z",
     "end_time": "2023-05-17T00:04:26.433554Z"
    }
   }
  },
  {
   "cell_type": "code",
   "execution_count": 4,
   "outputs": [
    {
     "name": "stdout",
     "output_type": "stream",
     "text": [
      "Fitting 5 folds for each of 8 candidates, totalling 40 fits\n",
      ">acc=0.625, est=0.609, cfg={'n_neighbors': 3, 'weights': 'distance'}\n",
      "Fitting 5 folds for each of 8 candidates, totalling 40 fits\n",
      ">acc=0.750, est=0.610, cfg={'n_neighbors': 5, 'weights': 'uniform'}\n",
      "Fitting 5 folds for each of 8 candidates, totalling 40 fits\n",
      ">acc=0.562, est=0.641, cfg={'n_neighbors': 5, 'weights': 'distance'}\n",
      "Fitting 5 folds for each of 8 candidates, totalling 40 fits\n",
      ">acc=0.625, est=0.644, cfg={'n_neighbors': 7, 'weights': 'uniform'}\n",
      "Fitting 5 folds for each of 8 candidates, totalling 40 fits\n",
      ">acc=0.625, est=0.658, cfg={'n_neighbors': 7, 'weights': 'distance'}\n",
      "Accuracy: 0.637 (0.061)\n"
     ]
    }
   ],
   "source": [
    "# Split the generated data into training and testing sets\n",
    "skf_outer = StratifiedKFold(n_splits=5, shuffle=True, random_state=42)\n",
    "actual_scores = []\n",
    "\n",
    "# Define the parameter grid for the random forest classifier\n",
    "param_grid = [{\n",
    "    'n_neighbors': [3, 5, 7, 9],\n",
    "    'weights': ['uniform', 'distance']}]\n",
    "\n",
    "for train_index_inner, test_index_inner in skf_outer.split(X_train_norm, y_train):\n",
    "    X_train_inner, X_test_inner = X_train_norm[train_index_inner], X_train_norm[test_index_inner]\n",
    "    y_train_inner, y_test_inner = y_train.iloc[train_index_inner], y_train.iloc[test_index_inner]\n",
    "\n",
    "    # parameter tuning for the random forest classifier using GridSearchCV\n",
    "    knn = KNeighborsClassifier()\n",
    "\n",
    "    # Inner cross-validation loop for hyperparameter tuning\n",
    "    skf_inner = StratifiedKFold(n_splits=5, shuffle=True, random_state=42)\n",
    "    # defining parameter range\n",
    "    grid = GridSearchCV(knn, param_grid, cv=skf_inner, scoring='accuracy', return_train_score=False, verbose=1)\n",
    "\n",
    "    grid_search= grid.fit(X_train_inner, y_train_inner)\n",
    "    best_model = grid_search.best_estimator_\n",
    "    yhat = best_model.predict(X_test_inner)\n",
    "    acc = accuracy_score(y_test_inner, yhat)\n",
    "    actual_scores.append(acc)\n",
    "    # report progress\n",
    "    print('>acc=%.3f, est=%.3f, cfg=%s' % (acc, grid_search.best_score_, grid_search.best_params_))\n",
    "# summarize the estimated performance of the model\n",
    "print('Accuracy: %.3f (%.3f)' % (mean(actual_scores), std(actual_scores)))"
   ],
   "metadata": {
    "collapsed": false,
    "ExecuteTime": {
     "start_time": "2023-05-17T00:04:26.430557Z",
     "end_time": "2023-05-17T00:04:43.582186Z"
    }
   }
  },
  {
   "cell_type": "code",
   "execution_count": null,
   "outputs": [],
   "source": [],
   "metadata": {
    "collapsed": false
   }
  }
 ],
 "metadata": {
  "kernelspec": {
   "display_name": "Python 3",
   "language": "python",
   "name": "python3"
  },
  "language_info": {
   "codemirror_mode": {
    "name": "ipython",
    "version": 2
   },
   "file_extension": ".py",
   "mimetype": "text/x-python",
   "name": "python",
   "nbconvert_exporter": "python",
   "pygments_lexer": "ipython2",
   "version": "2.7.6"
  }
 },
 "nbformat": 4,
 "nbformat_minor": 0
}
